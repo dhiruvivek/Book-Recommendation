{
  "nbformat": 4,
  "nbformat_minor": 0,
  "metadata": {
    "colab": {
      "private_outputs": true,
      "provenance": [],
      "collapsed_sections": [
        "w6K7xa23Elo4"
      ],
      "include_colab_link": true
    },
    "kernelspec": {
      "name": "python3",
      "display_name": "Python 3"
    },
    "language_info": {
      "name": "python"
    }
  },
  "cells": [
    {
      "cell_type": "markdown",
      "metadata": {
        "id": "view-in-github",
        "colab_type": "text"
      },
      "source": [
        "<a href=\"https://colab.research.google.com/github/dhiruvivek/Book-Recommendation/blob/main/Book_Recomendation_System_Unsupervised_Learning.ipynb\" target=\"_parent\"><img src=\"https://colab.research.google.com/assets/colab-badge.svg\" alt=\"Open In Colab\"/></a>"
      ]
    },
    {
      "cell_type": "markdown",
      "source": [
        "# **Book Recommendation System**    - \n",
        "\n"
      ],
      "metadata": {
        "id": "vncDsAP0Gaoa"
      }
    },
    {
      "cell_type": "markdown",
      "source": [
        "##### **Project Type**    - Unsupervised Machine Learning Capstone Project \n",
        "##### **Contribution**    - Individual\n",
        "##### **Name -** Vivek Tripathi\n"
      ],
      "metadata": {
        "id": "beRrZCGUAJYm"
      }
    },
    {
      "cell_type": "markdown",
      "source": [
        "# **GitHub Link -**"
      ],
      "metadata": {
        "id": "w6K7xa23Elo4"
      }
    },
    {
      "cell_type": "markdown",
      "source": [
        "Provide your GitHub Link here."
      ],
      "metadata": {
        "id": "h1o69JH3Eqqn"
      }
    },
    {
      "cell_type": "markdown",
      "source": [
        "A book recommendation system is a system that suggests books to users based on their interests and preferences. These systems are commonly used by online bookstores, libraries, and reading apps to help users discover new books and authors. There are several approaches to building a book recommendation system. One common approach is to use collaborative filtering, which involves analyzing the reading patterns and preferences of a group of users and making recommendations based on what similar users have enjoyed. Another approach is to use content-based filtering, which involves analyzing the characteristics of a book (such as its genre, author, and subject matter) and making recommendations based on how closely they match the user's interests.\n",
        "\n",
        "In this project, building a book recommendation system using one or more of these approaches.need to gather a dataset of books and user ratings, and then use machine learning algorithms to build a model that can make recommendations. You may also need to design a user interface for your system, so that users can easily interact with it and receive recommendations. Overall, this project will involve a combination of data gathering, data analysis, and development skills, and will give the opportunity to apply knowledge of machine learning and recommendation systems in a practical context."
      ],
      "metadata": {
        "id": "F6v_1wHtG2nS"
      }
    },
    {
      "cell_type": "markdown",
      "source": [],
      "metadata": {
        "id": "Te8vh6VM5o2C"
      }
    },
    {
      "cell_type": "markdown",
      "source": [
        "# **Project Summary -**\n",
        "A book recommendation system is a system that suggests books to users based on their interests and preferences. These systems are commonly used by online bookstores, libraries, and reading apps to help users discover new books and authors. There are several approaches to building a book recommendation system. One common approach is to use collaborative filtering, which involves analyzing the reading patterns and preferences of a group of users and making recommendations based on what similar users have enjoyed. Another approach is to use content-based filtering, which involves analyzing the characteristics of a book (such as its genre, author, and subject matter) and making recommendations based on how closely they match the user's interests.\n",
        "\n",
        "In this project, building a book recommendation system using one or more of these approaches.need to gather a dataset of books and user ratings, and then use machine learning algorithms to build a model that can make recommendations. You may also need to design a user interface for your system, so that users can easily interact with it and receive recommendations. Overall, this project will involve a combination of data gathering, data analysis, and development skills, and will give the opportunity to apply knowledge of machine learning and recommendation systems in a practical context."
      ],
      "metadata": {
        "id": "FJNUwmbgGyua"
      }
    },
    {
      "cell_type": "markdown",
      "source": [
        "# **Objective**"
      ],
      "metadata": {
        "id": "Mgo-fdLhaTV5"
      }
    },
    {
      "cell_type": "markdown",
      "source": [
        "\n",
        "A book recommendation system is a type of recommendation system where we have to recommend similar books to the reader based on his interest. The books recommendation system is used by online websites which provide ebooks like google play books, open library, good Read’s, etc."
      ],
      "metadata": {
        "id": "yQaldy8SH6Dl"
      }
    },
    {
      "cell_type": "markdown",
      "source": [
        "## **Understanding the Business Problem**\n",
        "\n",
        "Businesses may have the following expectations from a book recommendation system:\n",
        "\n",
        "**Increased sales**: One of the main goals of a book recommendation system is to increase sales by suggesting books that users are likely to purchase. This can be achieved by making personalized recommendations that match the user's interests and preferences.\n",
        "\n",
        "**Customer satisfaction**: A good recommendation system should be able to provide users with a satisfying and enjoyable experience. This can be achieved by making relevant and accurate recommendations and by providing a user-friendly interface.\n",
        "\n",
        "**User engagement**: A recommendation system can help to keep users engaged with a business's platform by providing a continuous stream of recommendations and new content. This can lead to increased customer loyalty and a longer user lifespan.\n",
        "\n",
        "**Improved user experience**: A recommendation system can help businesses to improve the overall user experience by making it easier for users to discover new books and authors that they may enjoy.\n",
        "\n",
        "**Competitive advantage**: A well-designed recommendation system can provide businesses with a competitive advantage over their rivals, as it can help to attract and retain customers.\n",
        "\n",
        "Data-driven decision making: A recommendation system can provide businesses with insights into user preferences and reading habits, which can be used to inform marketing and content strategy decisions."
      ],
      "metadata": {
        "id": "Y6QEAaH17Ctr"
      }
    },
    {
      "cell_type": "markdown",
      "source": [
        "## **Importing Libraries**"
      ],
      "metadata": {
        "id": "vIsTg3ge8iGk"
      }
    },
    {
      "cell_type": "code",
      "source": [
        "import numpy as np\n",
        "import pandas as pd\n",
        "import scipy\n",
        "import math\n",
        "import random\n",
        "import sklearn\n",
        "from nltk.corpus import stopwords\n",
        "from sklearn.model_selection import train_test_split\n",
        "from sklearn.feature_extraction.text import TfidfVectorizer\n",
        "from sklearn.metrics.pairwise import cosine_similarity\n",
        "from scipy.sparse.linalg import svds\n",
        "import matplotlib.pyplot as plt\n",
        "import seaborn as sns\n",
        "import sys\n",
        "import plotly.express as px\n",
        "import plotly.graph_objects as go\n",
        "import warnings\n",
        "warnings.filterwarnings('ignore')\n",
        "     "
      ],
      "metadata": {
        "id": "JttzZPdx7OmD"
      },
      "execution_count": null,
      "outputs": []
    },
    {
      "cell_type": "code",
      "source": [
        "from google.colab import drive\n",
        "drive.mount('/content/drive')"
      ],
      "metadata": {
        "id": "Jrvf8Y6l8t4q"
      },
      "execution_count": null,
      "outputs": []
    },
    {
      "cell_type": "code",
      "source": [
        "books=pd.read_csv(\"/content/drive/MyDrive/Book Recommendation SYstem/Books.csv\")\n",
        "users=pd.read_csv(\"/content/drive/MyDrive/Book Recommendation SYstem/Users.csv\")\n",
        "ratings=pd.read_csv(\"/content/drive/MyDrive/Book Recommendation SYstem/Ratings.csv\")"
      ],
      "metadata": {
        "id": "hYzAAQz58rMC"
      },
      "execution_count": null,
      "outputs": []
    },
    {
      "cell_type": "code",
      "source": [
        "#Top 5 rows of Books data\n",
        "books.head()"
      ],
      "metadata": {
        "id": "P9L8YbPH9HER"
      },
      "execution_count": null,
      "outputs": []
    },
    {
      "cell_type": "markdown",
      "source": [
        "**Data set Column information for Books data set**\n",
        "\n",
        "\n",
        "*   ISBN (It is the unique number for different books)\n",
        "\n",
        "*   Book-Title (It is the title of the books)\n",
        "\n",
        "*   Book-Author (The author of the book)\n",
        "*   Year-Of-Publication (It is the year when book was published)\n",
        "\n",
        "\n",
        "*   Publisher (It is the name of the publisher)\n",
        "\n",
        "\n",
        "*   Image-URL-S (It is URL of the books categorizing it as small)\n",
        "\n",
        "\n",
        "*   Image-URL-M (It is URL of the books categorizing it as medium)\n",
        "*   Image-URL-L (It is URL of the books categorizing it as large)\n",
        "\n",
        "\n",
        "\n",
        "\n",
        "\n",
        "\n",
        "\n",
        "\n",
        "\n",
        "\n",
        "\n"
      ],
      "metadata": {
        "id": "6NZsZKU_a-fL"
      }
    },
    {
      "cell_type": "code",
      "source": [
        "# lets describe the Book dataset\n",
        "books.describe()"
      ],
      "metadata": {
        "id": "mYUfNqugbxjn"
      },
      "execution_count": null,
      "outputs": []
    },
    {
      "cell_type": "code",
      "source": [
        "#Chcek the Dtype of Columns in Books data\n",
        "books.info()"
      ],
      "metadata": {
        "id": "kIIYYE-ub5k1"
      },
      "execution_count": null,
      "outputs": []
    },
    {
      "cell_type": "code",
      "source": [
        "#lets check the unique values of columns of Books dataset\n",
        "books.apply(lambda x: len(x.unique()))"
      ],
      "metadata": {
        "id": "KXZyzaVDb5al"
      },
      "execution_count": null,
      "outputs": []
    },
    {
      "cell_type": "markdown",
      "source": [
        "All the features has many unique values.And Year of publication has minimum unique values."
      ],
      "metadata": {
        "id": "fPPpZrCjcbtT"
      }
    },
    {
      "cell_type": "code",
      "source": [
        "# Checking for null values\n",
        "books.isnull().sum()"
      ],
      "metadata": {
        "id": "mvnDz0MJchyW"
      },
      "execution_count": null,
      "outputs": []
    },
    {
      "cell_type": "markdown",
      "source": [
        "#Lets check the unique values of different features of the books dataset."
      ],
      "metadata": {
        "id": "sH47fwIbdD5w"
      }
    },
    {
      "cell_type": "code",
      "source": [
        "\n",
        "books['Book-Title'].unique()"
      ],
      "metadata": {
        "id": "1YmXDngQchuz"
      },
      "execution_count": null,
      "outputs": []
    },
    {
      "cell_type": "code",
      "source": [
        "books['Book-Author'].unique()"
      ],
      "metadata": {
        "id": "10Zy220-chr0"
      },
      "execution_count": null,
      "outputs": []
    },
    {
      "cell_type": "code",
      "source": [
        "books['Image-URL-S'].unique()"
      ],
      "metadata": {
        "id": "J8ICp-m_choa"
      },
      "execution_count": null,
      "outputs": []
    },
    {
      "cell_type": "code",
      "source": [
        "books.Publisher.unique()"
      ],
      "metadata": {
        "id": "tRT3zs6tchlS"
      },
      "execution_count": null,
      "outputs": []
    },
    {
      "cell_type": "code",
      "source": [
        "books['Year-Of-Publication'].unique()"
      ],
      "metadata": {
        "id": "0XMASkPUchh3"
      },
      "execution_count": null,
      "outputs": []
    },
    {
      "cell_type": "markdown",
      "source": [
        "we can see that their are some values in Year-of-publication column like,'DK Publishing Inc','Gallimard','2024','2037','2030',2038, 2026,which could not be there in dataset so,we have to manipulate it before developing a recommender system."
      ],
      "metadata": {
        "id": "QKh8YHzJdbHK"
      }
    },
    {
      "cell_type": "code",
      "source": [
        "# lets check in how many rows are the year as DK Publishing inc\n",
        "books.loc[books['Year-Of-Publication']=='DK Publishing Inc']"
      ],
      "metadata": {
        "id": "dlq2VKnkdQnD"
      },
      "execution_count": null,
      "outputs": []
    },
    {
      "cell_type": "markdown",
      "source": [
        "There are two rows in which the Year of Publication is as 'DK Publishing Inc'.We can see that the values are written at wrong places lets make it as correct place."
      ],
      "metadata": {
        "id": "syfqUrNPdklw"
      }
    },
    {
      "cell_type": "code",
      "source": [
        "# Lets correct the values of index number 209538 and 221678 \n",
        "books.at[209538 ,'Publisher'] = 'DK Publishing Inc'\n",
        "books.at[209538 ,'Year-Of-Publication'] = '2000'\n",
        "books.at[209538 ,'Book-Title'] = 'DK Readers: Creating the X-Men, How It All Began (Level 4: Proficient Readers)'\n",
        "books.at[209538 ,'Book-Author'] = 'Michael Teitelbaum'\n",
        "\n",
        "books.at[221678 ,'Publisher'] = 'DK Publishing Inc'\n",
        "books.at[221678 ,'Year-Of-Publication'] = '2000'\n",
        "books.at[221687 ,'Book-Title'] = 'DK Readers: Creating the X-Men, How Comic Books Come to Life (Level 4: Proficient Readers)'\n",
        "books.at[221678 ,'Book-Author'] = 'James Buckley'"
      ],
      "metadata": {
        "id": "yA3QUxWkdQke"
      },
      "execution_count": null,
      "outputs": []
    },
    {
      "cell_type": "code",
      "source": [
        "# now lets check values of index 209538\n",
        "books.loc[209538]"
      ],
      "metadata": {
        "id": "adiSo_CWdQhg"
      },
      "execution_count": null,
      "outputs": []
    },
    {
      "cell_type": "code",
      "source": [
        "# now lets check values of index 221678\n",
        "books.loc[221678]"
      ],
      "metadata": {
        "id": "B3k-WqDTdQcX"
      },
      "execution_count": null,
      "outputs": []
    },
    {
      "cell_type": "code",
      "source": [
        "# Lets check in hiw many rows are the year of publicatiobn as gallimard\n",
        "books.loc[books['Year-Of-Publication']=='Gallimard']"
      ],
      "metadata": {
        "id": "NBG2AAZndQZ-"
      },
      "execution_count": null,
      "outputs": []
    },
    {
      "cell_type": "markdown",
      "source": [
        "only one row there is year of publication as Gallimard.We can see that the values are written at wrong places.So lets write at its correct place."
      ],
      "metadata": {
        "id": "rx3Fwtt8eZDP"
      }
    },
    {
      "cell_type": "code",
      "source": [
        "# lets coorect the values at index 220731\n",
        "books.at[220731,'Book-Author']='Jean-Marie Gustave Le'\n",
        "books.at[220731,'Book-Title']='Peuple du cel,suivi de les Bergers'\n",
        "books.at[220731,'Publisher']='Gallimard'\n",
        "books.at[220731,'Year-Of-Publication']='2003'"
      ],
      "metadata": {
        "id": "j7bdNU7seQK8"
      },
      "execution_count": null,
      "outputs": []
    },
    {
      "cell_type": "code",
      "source": [
        "# lets check the values of index 220731\n",
        "books.loc[220731]"
      ],
      "metadata": {
        "id": "UYCbWhqUeQCZ"
      },
      "execution_count": null,
      "outputs": []
    },
    {
      "cell_type": "code",
      "source": [
        "#since we are living in 2023 so we have to remove values in which the year of publication is greater than 2022.\n",
        "# Converting year of publication in Numbers\n",
        "books['Year-Of-Publication'] = books['Year-Of-Publication'].astype(int)\n",
        "print(sorted(books['Year-Of-Publication'].unique()))"
      ],
      "metadata": {
        "id": "v4MfCBM_eP_Y"
      },
      "execution_count": null,
      "outputs": []
    },
    {
      "cell_type": "code",
      "source": [
        "# lets check how many values of year of publication are greater than 2022 years\n",
        "books.loc[books['Year-Of-Publication']>2023].count()"
      ],
      "metadata": {
        "id": "Af-cpKAneP8a"
      },
      "execution_count": null,
      "outputs": []
    },
    {
      "cell_type": "code",
      "source": [
        "# lets check which are the year of publications which is greater than 2023\n",
        "books.loc[books['Year-Of-Publication']>2023]"
      ],
      "metadata": {
        "id": "E0FsjBb5eP5i"
      },
      "execution_count": null,
      "outputs": []
    },
    {
      "cell_type": "code",
      "source": [
        "# lets check how many values of year of publication are equal to zero\n",
        "books.loc[books['Year-Of-Publication']==0].count()"
      ],
      "metadata": {
        "id": "p5Qjc-PBe9Uw"
      },
      "execution_count": null,
      "outputs": []
    },
    {
      "cell_type": "code",
      "source": [
        "# lets see the Year of publication which is 0\n",
        "books.loc[books['Year-Of-Publication']==0]"
      ],
      "metadata": {
        "id": "d6GQ9FuVe9Se"
      },
      "execution_count": null,
      "outputs": []
    },
    {
      "cell_type": "markdown",
      "source": [
        "we can see that there are 13 values which are greater than 2022 and 4618 values which are equal to zero in year of publication column which we have to treat before moving ahead."
      ],
      "metadata": {
        "id": "gGAT87VNhvR7"
      }
    },
    {
      "cell_type": "code",
      "source": [
        "# Replacing Invalid years with max year\n",
        "from collections import Counter\n",
        "count = Counter(books['Year-Of-Publication'])\n",
        "[k for k, v in count.items() if v == max(count.values())]"
      ],
      "metadata": {
        "id": "GgD-BWice9Pp"
      },
      "execution_count": null,
      "outputs": []
    },
    {
      "cell_type": "code",
      "source": [
        "# lets replace all values of year of publicaion which are greater than 2023 and equal to zero with maximum number of years\n",
        "books.loc[books['Year-Of-Publication'] > 2023, 'Year-Of-Publication'] = 2002\n",
        "books.loc[books['Year-Of-Publication'] == 0, 'Year-Of-Publication'] = 2002"
      ],
      "metadata": {
        "id": "YyvcY-AIe9M9"
      },
      "execution_count": null,
      "outputs": []
    },
    {
      "cell_type": "code",
      "source": [
        "# now lets verify if there any value greater than 2023\n",
        "books.loc[books['Year-Of-Publication']>2022].count()"
      ],
      "metadata": {
        "id": "C8ZQBppce9KH"
      },
      "execution_count": null,
      "outputs": []
    },
    {
      "cell_type": "code",
      "source": [
        "# Lets verfy if there and value equal to zero in year of publication column\n",
        "books.loc[books['Year-Of-Publication']==0].count()"
      ],
      "metadata": {
        "id": "KFOXuV3Ve9G9"
      },
      "execution_count": null,
      "outputs": []
    },
    {
      "cell_type": "code",
      "source": [
        "# checking null values\n",
        "books.isnull().sum() "
      ],
      "metadata": {
        "id": "NXSGuDyue9Do"
      },
      "execution_count": null,
      "outputs": []
    },
    {
      "cell_type": "markdown",
      "source": [
        "there is one null value in Book-Author,Two null values in Publisher and three null values in Image-URL-L columns.Lets check what are those null values"
      ],
      "metadata": {
        "id": "MbtmcIxUiNCq"
      }
    },
    {
      "cell_type": "code",
      "source": [
        "# checking null value in Book-Author column\n",
        "books.loc[books['Book-Author'].isnull()]"
      ],
      "metadata": {
        "id": "tKvZgP8Le9A7"
      },
      "execution_count": null,
      "outputs": []
    },
    {
      "cell_type": "markdown",
      "source": [
        "there is one value in book author column which is NaN so lets replace it with 'Others'"
      ],
      "metadata": {
        "id": "Jq_DJYA7iU-H"
      }
    },
    {
      "cell_type": "code",
      "source": [
        "# lets replace nan value of book author with ohers \n",
        "books.at[187689 ,'Book-Author'] = 'Other'"
      ],
      "metadata": {
        "id": "s54uRXSViJS1"
      },
      "execution_count": null,
      "outputs": []
    },
    {
      "cell_type": "code",
      "source": [
        "# lets check\n",
        "books.loc[187689]"
      ],
      "metadata": {
        "id": "Q0uezpaziJQc"
      },
      "execution_count": null,
      "outputs": []
    },
    {
      "cell_type": "code",
      "source": [
        "# We have replaced the null value with other\n",
        "# checking null values in Publisher column\n",
        "books.loc[books['Publisher'].isnull()]\n"
      ],
      "metadata": {
        "id": "zjHLAsXhiJNd"
      },
      "execution_count": null,
      "outputs": []
    },
    {
      "cell_type": "code",
      "source": [
        "# Lets replace null values of Publisher column with others\n",
        "books.at[128890,'Publisher']='Others'\n",
        "books.at[129037,'Publisher']='Others'"
      ],
      "metadata": {
        "id": "paIO-Kr6iJKW"
      },
      "execution_count": null,
      "outputs": []
    },
    {
      "cell_type": "code",
      "source": [
        "# lets verify for first\n",
        "books.loc[128890]"
      ],
      "metadata": {
        "id": "MiZK_fM7iJHZ"
      },
      "execution_count": null,
      "outputs": []
    },
    {
      "cell_type": "code",
      "source": [
        "# lets verify for second\n",
        "books.loc[129037]"
      ],
      "metadata": {
        "id": "xHAeJeRqiuh8"
      },
      "execution_count": null,
      "outputs": []
    },
    {
      "cell_type": "code",
      "source": [
        "# we have transformed this values as well.Lets now proceecd for Image URL L column\n",
        "# checking null value in Image-URL-L column\n",
        "books.loc[books['Image-URL-L'].isnull()]"
      ],
      "metadata": {
        "id": "PuBG14CAiue8"
      },
      "execution_count": null,
      "outputs": []
    },
    {
      "cell_type": "code",
      "source": [
        "# Since we will not be doing much with image url columns so lets drop it.\n",
        "# Drop URL columns\n",
        "books.drop(['Image-URL-S', 'Image-URL-M', 'Image-URL-L'], axis=1, inplace=True)\n",
        "books.head()\n",
        "     "
      ],
      "metadata": {
        "id": "ANdIsG_qiub9"
      },
      "execution_count": null,
      "outputs": []
    },
    {
      "cell_type": "code",
      "source": [
        "# Lets check is there any Duplicate values\n",
        "books.duplicated().any()\n",
        "     "
      ],
      "metadata": {
        "id": "H0aNoVUmiuXb"
      },
      "execution_count": null,
      "outputs": []
    },
    {
      "cell_type": "code",
      "source": [
        "# lets check is there any null values\n",
        "books.info()"
      ],
      "metadata": {
        "id": "A_AjCYfHiuUx"
      },
      "execution_count": null,
      "outputs": []
    },
    {
      "cell_type": "code",
      "source": [
        "#Now Its time for Users Data set"
      ],
      "metadata": {
        "id": "BGsYMzpdiuSF"
      },
      "execution_count": null,
      "outputs": []
    },
    {
      "cell_type": "code",
      "source": [
        "#Top 5 rows of user data\n",
        "users.head()"
      ],
      "metadata": {
        "id": "HcKkioNj9S5Q"
      },
      "execution_count": null,
      "outputs": []
    },
    {
      "cell_type": "markdown",
      "source": [
        "The different columns in user dataset are as follows--\n",
        "\n",
        "User-ID\n",
        "\n",
        "location\n",
        "\n",
        "Age\n"
      ],
      "metadata": {
        "id": "FgRcH7xSjn55"
      }
    },
    {
      "cell_type": "code",
      "source": [
        "# lets check shape of user dataset\n",
        "users.shape\n",
        "     "
      ],
      "metadata": {
        "id": "dP6AQpz2iuPg"
      },
      "execution_count": null,
      "outputs": []
    },
    {
      "cell_type": "code",
      "source": [
        "#Lets check the info\n",
        "users.info()"
      ],
      "metadata": {
        "id": "FUa3157fiuMQ"
      },
      "execution_count": null,
      "outputs": []
    },
    {
      "cell_type": "code",
      "source": [
        "#checking unique values of different features of the user dataset\n",
        "users.apply(lambda x: len(x.unique()))"
      ],
      "metadata": {
        "id": "kIfhorLgj3vm"
      },
      "execution_count": null,
      "outputs": []
    },
    {
      "cell_type": "markdown",
      "source": [
        "Since everyone of them have unique user-Id, and different locations so we cannot do much with it.So,lets check age columns"
      ],
      "metadata": {
        "id": "PUE26o-hkOgO"
      }
    },
    {
      "cell_type": "code",
      "source": [
        "# lets check unique values in age \n",
        "users.Age.unique()\n",
        "     "
      ],
      "metadata": {
        "id": "UpH6QJLsj3tZ"
      },
      "execution_count": null,
      "outputs": []
    },
    {
      "cell_type": "markdown",
      "source": [
        "There is nan values and some values are there which could not be there in dataset such as age greater than 90 and less than 6 because peoples greater than 90 and less 6 years of age do not read books.So we have to remove these values."
      ],
      "metadata": {
        "id": "dXi2-4BykZ0G"
      }
    },
    {
      "cell_type": "code",
      "source": [
        "# lets check how many values are less than or equal to 6 years \n",
        "users[users['Age']<6].count()"
      ],
      "metadata": {
        "id": "XhTIE7Zxj3rK"
      },
      "execution_count": null,
      "outputs": []
    },
    {
      "cell_type": "code",
      "source": [
        "# lets check how many values are greater than 90\n",
        "users[users['Age']>90].count()"
      ],
      "metadata": {
        "id": "dCTilgwcj3mf"
      },
      "execution_count": null,
      "outputs": []
    },
    {
      "cell_type": "markdown",
      "source": [
        "there are 926 age values which are less or equal to 6 years of age and 430 values which are greater than or equal to 90 years of age.Since these are absurd values so we have to manipulate it.Lets change these values with mean age values\n"
      ],
      "metadata": {
        "id": "phjU-OwckurO"
      }
    },
    {
      "cell_type": "code",
      "source": [
        "# lets create a variable for required age group\n",
        "required = users[users['Age'] <= 90]\n",
        "required = required[required['Age'] >= 6]"
      ],
      "metadata": {
        "id": "rEE3DpBej3j1"
      },
      "execution_count": null,
      "outputs": []
    },
    {
      "cell_type": "code",
      "source": [
        "# lets check the mean age\n",
        "mean = round(required['Age'].mean())   \n",
        "mean"
      ],
      "metadata": {
        "id": "K3mPxJmMj3iM"
      },
      "execution_count": null,
      "outputs": []
    },
    {
      "cell_type": "code",
      "source": [
        "#35 years is the mean age lets replace absurd values with mean age.\n",
        "# Lets replace the values\n",
        "users.loc[users['Age'] > 90, 'Age'] = mean    #outliers with age grater than 90 are substituted with mean \n",
        "users.loc[users['Age'] < 6, 'Age'] = mean    #outliers with age less than 6 years are substitued with mean\n",
        "users['Age'] = users['Age'].fillna(mean)      #filling null values with mean\n",
        "users['Age'] = users['Age'].astype(int)       #changing Datatype to int"
      ],
      "metadata": {
        "id": "02vyGifkj3fi"
      },
      "execution_count": null,
      "outputs": []
    },
    {
      "cell_type": "code",
      "source": [
        "# lets verify for age group equal to or less than 6 years\n",
        "users[users['Age']<6].count()"
      ],
      "metadata": {
        "id": "MdrfzlL-j3dg"
      },
      "execution_count": null,
      "outputs": []
    },
    {
      "cell_type": "code",
      "source": [
        "# lets verify for age group greater thsn 90 years\n",
        "users[users['Age']>90].count()\n",
        "     "
      ],
      "metadata": {
        "id": "UmB9ESMoj3bw"
      },
      "execution_count": null,
      "outputs": []
    },
    {
      "cell_type": "code",
      "source": [
        "# lets check is there any null values\n",
        "users.info()"
      ],
      "metadata": {
        "id": "XvwGnIKjj3Zz"
      },
      "execution_count": null,
      "outputs": []
    },
    {
      "cell_type": "code",
      "source": [
        "# lets find unique values in location column\n",
        "users.Location.unique()\n",
        "     "
      ],
      "metadata": {
        "id": "dQhnTwOuj3Wq"
      },
      "execution_count": null,
      "outputs": []
    },
    {
      "cell_type": "code",
      "source": [
        "# lets find out total unique values in location column\n",
        "users.Location.nunique()"
      ],
      "metadata": {
        "id": "sSsFyKGxj3T-"
      },
      "execution_count": null,
      "outputs": []
    },
    {
      "cell_type": "code",
      "source": [
        "# Extracting  city state and country from location column\n",
        "\n",
        "list_ = users.Location.str.split(', ')\n",
        "\n",
        "city = []\n",
        "state = []\n",
        "country = []\n",
        "count_no_state = 0    \n",
        "count_no_country = 0\n",
        "\n",
        "for i in range(0,len(list_)):\n",
        "    if list_[i][0] == ' ' or list_[i][0] == '' or list_[i][0]=='n/a' or list_[i][0] == ',':  #removing invalid entries too\n",
        "        city.append('other')\n",
        "    else:\n",
        "        city.append(list_[i][0].lower())\n",
        "\n",
        "    if(len(list_[i])<2):\n",
        "        state.append('other')\n",
        "        country.append('other')\n",
        "        count_no_state += 1\n",
        "        count_no_country += 1\n",
        "    else:\n",
        "        if list_[i][1] == ' ' or list_[i][1] == '' or list_[i][1]=='n/a' or list_[i][1] == ',':   #removing invalid entries \n",
        "            state.append('other')\n",
        "            count_no_state += 1            \n",
        "        else:\n",
        "            state.append(list_[i][1].lower())\n",
        "        \n",
        "        if(len(list_[i])<3):\n",
        "            country.append('other')\n",
        "            count_no_country += 1\n",
        "        else:\n",
        "            if list_[i][2] == ''or list_[i][1] == ',' or list_[i][2] == ' ' or list_[i][2] == 'n/a':\n",
        "                country.append('other')\n",
        "                count_no_country += 1\n",
        "            else:\n",
        "                country.append(list_[i][2].lower())\n",
        "        \n",
        "user = users.drop('Location',axis=1)\n",
        "temp = []\n",
        "for ent in city:\n",
        "    c = ent.split('/')            #handling cases where city/state entries from city list as state is already given \n",
        "    temp.append(c[0])\n",
        "\n",
        "df_city = pd.DataFrame(temp,columns=['City'])\n",
        "df_state = pd.DataFrame(state,columns=['State'])\n",
        "df_country = pd.DataFrame(country,columns=['Country'])\n",
        "\n",
        "users = pd.concat([users, df_city], axis=1)\n",
        "users = pd.concat([users, df_state], axis=1)\n",
        "users = pd.concat([users, df_country], axis=1)\n",
        "\n",
        "print(count_no_country)   #printing the number of countries didnt have any values \n",
        "print(count_no_state)     #printing the states which didnt have any values"
      ],
      "metadata": {
        "id": "_OzT9DrnmExR"
      },
      "execution_count": null,
      "outputs": []
    },
    {
      "cell_type": "code",
      "source": [
        "# now lets see how columns are there\n",
        "user"
      ],
      "metadata": {
        "id": "qP5Z_Q-NmEt1"
      },
      "execution_count": null,
      "outputs": []
    },
    {
      "cell_type": "markdown",
      "source": [
        "We succefully cleaned our User data set so lets move forward."
      ],
      "metadata": {
        "id": "F8Lp_07TmnNT"
      }
    },
    {
      "cell_type": "markdown",
      "source": [
        "**Now lets move to our 3rd data set that is Ratings dataset**"
      ],
      "metadata": {
        "id": "oO4-bMIKmuY_"
      }
    },
    {
      "cell_type": "code",
      "source": [
        "#Top 5 rows of rating data \n",
        "ratings.head()"
      ],
      "metadata": {
        "id": "qs6yA9Gp9Z9S"
      },
      "execution_count": null,
      "outputs": []
    },
    {
      "cell_type": "code",
      "source": [
        "# lets check the shape of rating dataset\n",
        "ratings.shape\n",
        "     "
      ],
      "metadata": {
        "id": "fOtbC7vPmErg"
      },
      "execution_count": null,
      "outputs": []
    },
    {
      "cell_type": "code",
      "source": [
        "# lets see the different columns in rating dataset\n",
        "ratings.columns"
      ],
      "metadata": {
        "id": "T702FTNVmEpG"
      },
      "execution_count": null,
      "outputs": []
    },
    {
      "cell_type": "code",
      "source": [
        "# lets take that rating of books which are in books dataset\n",
        "ratings = ratings[ratings.ISBN.isin(books.ISBN)]\n",
        "ratings.shape"
      ],
      "metadata": {
        "id": "5p-vhgHqmEmw"
      },
      "execution_count": null,
      "outputs": []
    },
    {
      "cell_type": "code",
      "source": [
        "# lets see our dataset look from above and below\n",
        "ratings"
      ],
      "metadata": {
        "id": "uoofmT5VmEkR"
      },
      "execution_count": null,
      "outputs": []
    },
    {
      "cell_type": "markdown",
      "source": [
        "User-Id and ISBN number of the dataset is unique,therefore lets see the unique values in Book-Rating column."
      ],
      "metadata": {
        "id": "q_j4boLynUBP"
      }
    },
    {
      "cell_type": "code",
      "source": [
        "\n",
        "# Renaming feature name\n",
        "ratings.rename(columns={'Book-Rating':'ratings'},inplace=True)\n",
        "     "
      ],
      "metadata": {
        "id": "KnC83CRLmEhu"
      },
      "execution_count": null,
      "outputs": []
    },
    {
      "cell_type": "code",
      "source": [
        "# lets see unique values in rating column\n",
        "ratings['ratings'].unique()"
      ],
      "metadata": {
        "id": "qlhisOiNj3Q8"
      },
      "execution_count": null,
      "outputs": []
    },
    {
      "cell_type": "markdown",
      "source": [
        "we can see that Book-Rating is ranging from 0 to 10.Since here our dataset is already cleaned so we do not need to clean it. We are good to go.\n",
        "\n"
      ],
      "metadata": {
        "id": "lAHVqllKng06"
      }
    },
    {
      "cell_type": "code",
      "source": [
        "# lets check is there any null value\n",
        "ratings.info()\n",
        "     "
      ],
      "metadata": {
        "id": "CsrjjPLtj3Nw"
      },
      "execution_count": null,
      "outputs": []
    },
    {
      "cell_type": "code",
      "source": [
        "# checking duplicate values in ratings data set\n",
        "ratings.duplicated().sum()"
      ],
      "metadata": {
        "id": "JOXX549Bnka8"
      },
      "execution_count": null,
      "outputs": []
    },
    {
      "cell_type": "code",
      "source": [
        "# lets print sorted rating\n",
        "print(sorted(ratings.ratings.unique()))"
      ],
      "metadata": {
        "id": "DtwOmMrRnpZ8"
      },
      "execution_count": null,
      "outputs": []
    },
    {
      "cell_type": "code",
      "source": [
        "# lets count the different ratings \n",
        "ratings['ratings'].value_counts()"
      ],
      "metadata": {
        "id": "dUjvjVPxnqTs"
      },
      "execution_count": null,
      "outputs": []
    },
    {
      "cell_type": "markdown",
      "source": [
        "from above, it is obvious that the ratings are very unevenly distributed, and the vast majority of ratings are 0 .As quoted in the description of the dataset - BX-Book-Ratings contains the book rating information. Ratings are either explicit, expressed on a scale from 1-10 higher values denoting higher appreciation, or implicit, expressed by 0.Hence segragating implicit and explict ratings datasets is important. So, lets seprate the rating into explicit and implicit"
      ],
      "metadata": {
        "id": "LOAjiE_coF5Q"
      }
    },
    {
      "cell_type": "code",
      "source": [
        "# Hence segragating implicit and explict ratings datasets\n",
        "rating_explicit = ratings[ratings['ratings'] != 0]\n",
        "rating_implicit = ratings[ratings['ratings'] == 0]"
      ],
      "metadata": {
        "id": "FE9HXdSKn1N7"
      },
      "execution_count": null,
      "outputs": []
    },
    {
      "cell_type": "code",
      "source": [
        "# lets print it\n",
        "print('rating_explicit dataset shape',rating_explicit.shape)\n",
        "print('rating_implicit dataset',rating_implicit.shape)"
      ],
      "metadata": {
        "id": "n2UiEGqCoN40"
      },
      "execution_count": null,
      "outputs": []
    },
    {
      "cell_type": "markdown",
      "source": [
        "# **No Merging all 3 Datasets**"
      ],
      "metadata": {
        "id": "4o6HKIheoV8G"
      }
    },
    {
      "cell_type": "code",
      "source": [
        "# Create column Rating average \n",
        "rating_explicit['Avg_Rating']=rating_explicit.groupby('ISBN')['ratings'].transform('mean')\n",
        "# Create column Rating sum\n",
        "rating_explicit['Total_No_Of_Users_Rated']=rating_explicit.groupby('ISBN')['ratings'].transform('count')"
      ],
      "metadata": {
        "id": "R_GRT2_RoSsL"
      },
      "execution_count": null,
      "outputs": []
    },
    {
      "cell_type": "code",
      "source": [
        "# merging data set\n",
        "dataset = pd.merge(books, rating_explicit, on='ISBN', how='inner')\n",
        "dataset = pd.merge(dataset, users, on='User-ID', how='inner')\n",
        "dataset.info()"
      ],
      "metadata": {
        "id": "fPcC4FSIsYgS"
      },
      "execution_count": null,
      "outputs": []
    },
    {
      "cell_type": "code",
      "source": [
        "# lets see how it looks\n",
        "dataset"
      ],
      "metadata": {
        "id": "3locwendsieC"
      },
      "execution_count": null,
      "outputs": []
    },
    {
      "cell_type": "code",
      "source": [
        "# lets check its shape\n",
        "dataset.shape"
      ],
      "metadata": {
        "id": "OS_6jErgsmWi"
      },
      "execution_count": null,
      "outputs": []
    },
    {
      "cell_type": "code",
      "source": [
        "# Create age groups using age column\n",
        "# Labelled 'Kid' for values between between 1-12.\n",
        "# 'Teenager' for values between 13-19.\n",
        "# 'Adult' for values between 20-50.\n",
        "# Old' for values greater than 50.\n",
        "bins = [-1,12,20,50,100]\n",
        "labels = ['Kid','Teenager','Adult','Old']\n",
        "dataset['age_bins'] = pd.cut(x=dataset['Age'], bins=bins,labels=labels)"
      ],
      "metadata": {
        "id": "Pdrit3d4spzZ"
      },
      "execution_count": null,
      "outputs": []
    },
    {
      "cell_type": "markdown",
      "source": [
        "# **EDA**"
      ],
      "metadata": {
        "id": "-e64T-shs9DK"
      }
    },
    {
      "cell_type": "code",
      "source": [
        "# ratings count\n",
        "\n",
        "\n",
        "ratings_explicit= dataset[dataset['ratings'] != 0]\n",
        "ratings_implicit= dataset[dataset['ratings'] == 0]"
      ],
      "metadata": {
        "id": "M7VArdj5stay"
      },
      "execution_count": null,
      "outputs": []
    },
    {
      "cell_type": "markdown",
      "source": [
        "### **Explicit+Implicit Ratings**"
      ],
      "metadata": {
        "id": "8htsXyrAu3Yi"
      }
    },
    {
      "cell_type": "code",
      "source": [
        "# lets create rating_count variable\n",
        "rating_count=ratings['ratings'].value_counts().reset_index().sort_values('ratings',ascending=False)"
      ],
      "metadata": {
        "id": "Uxi6sJoptGbi"
      },
      "execution_count": null,
      "outputs": []
    },
    {
      "cell_type": "code",
      "source": [
        "# lets plot bar graph for it\n",
        "plt.figure(figsize=(12,8))\n",
        "ax=sns.barplot(x=rating_count['index'], y=rating_count['ratings'])\n",
        "ax.set_title('Ratings Count',fontsize=30,fontweight='bold')"
      ],
      "metadata": {
        "id": "YNUnP6VmtTli"
      },
      "execution_count": null,
      "outputs": []
    },
    {
      "cell_type": "markdown",
      "source": [
        "Conclusion: The datset with both explicit and implicit ratings is highly skewed toward the value of zero."
      ],
      "metadata": {
        "id": "e80FSPXMugml"
      }
    },
    {
      "cell_type": "markdown",
      "source": [
        "## **Explicit Ratings**"
      ],
      "metadata": {
        "id": "Vtlt4cIxvAaB"
      }
    },
    {
      "cell_type": "code",
      "source": [
        "# Lets plot graph for it\n",
        "fig = plt.figure(figsize =(15,10))\n",
        "sns.set_style('darkgrid')\n",
        "sns.countplot(data= ratings_explicit , x='ratings') \n",
        "ax.set_title('Ratings-Density Plot', weight='bold').set_fontsize('25')\n",
        "plt.show()"
      ],
      "metadata": {
        "id": "acU-_ES2tW1L"
      },
      "execution_count": null,
      "outputs": []
    },
    {
      "cell_type": "markdown",
      "source": [
        "Conclusion: The skewness perishes after we remove the implicit ratings."
      ],
      "metadata": {
        "id": "NgyX7ZMsvQym"
      }
    },
    {
      "cell_type": "code",
      "source": [
        "#Book ratings count using group by\n",
        "book_rating=dataset.groupby(['Book-Title'])['ratings'].count().sort_values(ascending=False).reset_index()"
      ],
      "metadata": {
        "id": "wXnl-KcXvKWw"
      },
      "execution_count": null,
      "outputs": []
    },
    {
      "cell_type": "code",
      "source": [
        "# lets plot the graph for it\n",
        "plt.figure(figsize=(15,8))\n",
        "ax=sns.barplot(x=book_rating['ratings'][:10], y=book_rating['Book-Title'][:10],color='g')\n",
        "ax.set_title('Book Ratings Count', fontsize=30,fontweight='bold')\n",
        "ax.set_xlabel('Ratings-Count',fontsize=20)\n",
        "ax.set_ylabel('Book-Titles',fontsize=20)\n",
        "plt.yticks(fontsize=15)\n",
        "plt.xticks(fontsize=15)"
      ],
      "metadata": {
        "id": "zUn-dqVDvakI"
      },
      "execution_count": null,
      "outputs": []
    },
    {
      "cell_type": "markdown",
      "source": [
        "Here, we are able to observe, most frequently rated books by the users."
      ],
      "metadata": {
        "id": "dUyLLjYVwJtQ"
      }
    },
    {
      "cell_type": "markdown",
      "source": [
        "## **Location**"
      ],
      "metadata": {
        "id": "Lpdece7qweVh"
      }
    },
    {
      "cell_type": "code",
      "source": [
        "#Identifying what % of customers are coming from different countries\n",
        "df_location = pd.DataFrame(users.Country.value_counts(normalize=True)).reset_index()\n",
        "df_location.columns = ['countries','value_counts']\n",
        "\n",
        "#Labeling countries with low customer % as other\n",
        "df_location['countries'] = df_location.apply(lambda x: 'other' if (x['value_counts'] < 0.01 or x['countries'] == '') else x['countries'],axis=1)\n",
        "\n",
        "#Grouping the customer % from 'other' countries \n",
        "df_location = df_location.groupby('countries')['value_counts'].sum().reset_index()"
      ],
      "metadata": {
        "id": "5OkscBgwvyWw"
      },
      "execution_count": null,
      "outputs": []
    },
    {
      "cell_type": "code",
      "source": [
        "#Every country has now just one occurance\n",
        "df_location.countries.value_counts()"
      ],
      "metadata": {
        "id": "2pK39vwtwpZK"
      },
      "execution_count": null,
      "outputs": []
    },
    {
      "cell_type": "code",
      "source": [
        "#define Seaborn color palette to use\n",
        "colors = sns.color_palette('pastel')[0:5]\n",
        "\n",
        "#create pie chart\n",
        "plt.figure(figsize=(15,8))\n",
        "plt.title(\"Country Representation in the Data Set\",bbox={'facecolor':'0.8', 'pad':8},fontsize=24, fontdict={\"weight\": \"bold\"},y=1.25,x=0.578)\n",
        "f = plt.pie(df_location['value_counts'], labels = df_location['countries'], colors = colors, autopct='%.0f%%',radius=1.4)\n"
      ],
      "metadata": {
        "id": "cq6qiwMhwrna"
      },
      "execution_count": null,
      "outputs": []
    },
    {
      "cell_type": "markdown",
      "source": [
        "Most customers are from United states of America, followd by Canada, United Kingdom and Germany.\n",
        "\n",
        "Countries with less than 1% customers are labelled as other"
      ],
      "metadata": {
        "id": "OPep6CT4w9SG"
      }
    },
    {
      "cell_type": "markdown",
      "source": [
        "## **Age vs Rating Density**"
      ],
      "metadata": {
        "id": "16W4UcFkxB44"
      }
    },
    {
      "cell_type": "code",
      "source": [
        "# Calculating the rating count and mean rating given to each book by the user.\n",
        "\n",
        "rating_count = dataset.groupby('Book-Title')['ratings'].count().to_frame()\n",
        "rating_mean = dataset.groupby('Book-Title')['ratings'].mean().to_frame()\n"
      ],
      "metadata": {
        "id": "D2h4EMtLwzto"
      },
      "execution_count": null,
      "outputs": []
    },
    {
      "cell_type": "code",
      "source": [
        "# Renaming the column names before merging them with the final dataset.\n",
        "\n",
        "rating_count.rename(columns={'ratings':'Rating-Count'}, inplace=True)\n",
        "rating_mean.rename(columns={'ratings':'Rating-Mean'}, inplace=True)\n",
        "     "
      ],
      "metadata": {
        "id": "Q8MMMpBBxI6I"
      },
      "execution_count": null,
      "outputs": []
    },
    {
      "cell_type": "code",
      "source": [
        "dataset = pd.merge(dataset, rating_count, on='Book-Title', how='inner')\n",
        "dataset = pd.merge(dataset, rating_mean, on='Book-Title', how='inner')\n",
        "     "
      ],
      "metadata": {
        "id": "QLHOPskTxOy_"
      },
      "execution_count": null,
      "outputs": []
    },
    {
      "cell_type": "code",
      "source": [
        "# rounding off the rating mean feature to 2 decimal points\n",
        "dataset['Rating-Mean'] = dataset['Rating-Mean'].round(2)"
      ],
      "metadata": {
        "id": "HNwmaXX6xRBg"
      },
      "execution_count": null,
      "outputs": []
    },
    {
      "cell_type": "code",
      "source": [
        "# Calculating the mean vote across the whole df\n",
        "C = dataset['Rating-Mean'].mean()\n",
        "     "
      ],
      "metadata": {
        "id": "lCotK4dexT6v"
      },
      "execution_count": null,
      "outputs": []
    },
    {
      "cell_type": "code",
      "source": [
        "# Calculating the minimum votes required to be listed in the top 5%\n",
        "m = rating_count.quantile(.95)[0]"
      ],
      "metadata": {
        "id": "UfpfSHVoxVoX"
      },
      "execution_count": null,
      "outputs": []
    },
    {
      "cell_type": "code",
      "source": [
        "# IMDB formula; source: https://tutorialedge.net/python/building-imdb-top-250-clone-pandas/\n",
        "def weighted_rating(x, m=m, C=C):\n",
        "    v = x['Rating-Count']\n",
        "    R = x['Rating-Mean']\n",
        "\n",
        "    return (v/(v+m) * R) + (m/(m+v) * C)"
      ],
      "metadata": {
        "id": "TCLocYg_xXeP"
      },
      "execution_count": null,
      "outputs": []
    },
    {
      "cell_type": "code",
      "source": [
        "df_merged_updated=dataset[dataset['ratings']!=0]"
      ],
      "metadata": {
        "id": "EgL7kD1BxZvw"
      },
      "execution_count": null,
      "outputs": []
    },
    {
      "cell_type": "code",
      "source": [
        "# Visualizing the rating counts of the users. \n",
        "plt.figure(figsize=(15,8))\n",
        "df_merged_updated['Rating-Count'].hist(bins=[0,5,10,20,30,40,50,60,70,80,90,100])"
      ],
      "metadata": {
        "id": "T7G8SwyjxbVp"
      },
      "execution_count": null,
      "outputs": []
    },
    {
      "cell_type": "code",
      "source": [
        "# Visualizing the rating counts of the users in the range between 0 to 20.\n",
        "plt.figure(figsize=(15,8)) \n",
        "df_merged_updated['Rating-Count'].hist(bins=[0,2,4,6,8,10,12,14,16,18,20])"
      ],
      "metadata": {
        "id": "Q8tS42TAxoSI"
      },
      "execution_count": null,
      "outputs": []
    },
    {
      "cell_type": "code",
      "source": [
        "# Age group that rated books the most\n",
        "plt.figure(figsize=(20,12))\n",
        "dataset.groupby('age_bins')['ratings'].count().plot(kind='pie')"
      ],
      "metadata": {
        "id": "8nG85s-QxsRI"
      },
      "execution_count": null,
      "outputs": []
    },
    {
      "cell_type": "markdown",
      "source": [
        "Most customers are Adults (20-50yrs).\n",
        "\n",
        "2nd most represented age group is for boomers (>50yrs)."
      ],
      "metadata": {
        "id": "q6YIkLhvzDVp"
      }
    },
    {
      "cell_type": "code",
      "source": [
        "# Lets plot bar graph for number of books published in different years\n",
        "publications = {}\n",
        "for year in books['Year-Of-Publication']:\n",
        "    if str(year) not in publications:\n",
        "        publications[str(year)] = 0\n",
        "    publications[str(year)] +=1\n",
        "\n",
        "publications = {k:v for k, v in sorted(publications.items())}\n",
        "\n",
        "fig = plt.figure(figsize =(55, 15))\n",
        "plt.bar(list(publications.keys()),list(publications.values()), color = 'blue')\n",
        "plt.ylabel(\"Number of books published\")\n",
        "plt.xlabel(\"Year of Publication\")\n",
        "plt.title(\"Number of books published yearly\")\n",
        "plt.margins(x = 0)\n",
        "plt.show()"
      ],
      "metadata": {
        "id": "ygj1aU-Ly6IH"
      },
      "execution_count": null,
      "outputs": []
    },
    {
      "cell_type": "markdown",
      "source": [
        "# **Top 10 Publishers**"
      ],
      "metadata": {
        "id": "uZRUTd6iz0ZA"
      }
    },
    {
      "cell_type": "code",
      "source": [
        "\n",
        "# creating dataframe for top 10 publisher\n",
        "order=pd.value_counts(books['Publisher']).iloc[:10].reset_index().rename(columns={'index':'Publisher','Publisher':'Count'}).sort_values(by='Count',ascending=True)\n"
      ],
      "metadata": {
        "id": "3Df7MN-PzI3_"
      },
      "execution_count": null,
      "outputs": []
    },
    {
      "cell_type": "code",
      "source": [
        "# bar graph of top 10 publisher\n",
        "fig = px.histogram(x= order.Count,y=order.Publisher,orientation=None , width=650, height=450,\n",
        "              text_auto=True,color=order.Publisher\n",
        "             )\n",
        "fig.update_layout(\n",
        "    title='Top 10 Publishers',\n",
        "    xaxis_title=\"Count\",\n",
        "    yaxis_title=\"Publisher\",\n",
        "    template=\"plotly_dark\",\n",
        "    \n",
        ")\n",
        "fig.show()"
      ],
      "metadata": {
        "id": "i-E6OIV2ZYUZ"
      },
      "execution_count": null,
      "outputs": []
    },
    {
      "cell_type": "markdown",
      "source": [
        "From the graph above we can see the top 10 publishers and among them Harlequin publishers are the publishers of most books."
      ],
      "metadata": {
        "id": "mvgz-OUcZllD"
      }
    },
    {
      "cell_type": "markdown",
      "source": [
        "## **Top 10 Authors**"
      ],
      "metadata": {
        "id": "yEna1m4bZor5"
      }
    },
    {
      "cell_type": "code",
      "source": [
        "# creating dataframe for top 10 Author\n",
        "author=pd.value_counts(books['Book-Author']).iloc[:10].reset_index().rename(columns={'index':'Author','Book-Author':'Count'}).sort_values(by='Count',ascending=True)\n"
      ],
      "metadata": {
        "id": "ORUSd-GOZf8i"
      },
      "execution_count": null,
      "outputs": []
    },
    {
      "cell_type": "code",
      "source": [
        "# bar graph of top 10 publisher\n",
        "fig = px.histogram(x= author.Count,y=author.Author,orientation=None , width=650, height=450,\n",
        "              text_auto=True,color=author.Author\n",
        "             )\n",
        "fig.update_layout(\n",
        "    title='Top 10 Author',\n",
        "    xaxis_title=\"Count\",\n",
        "    yaxis_title=\"Author\",\n",
        "    template=\"plotly_dark\",\n",
        "    \n",
        ")\n",
        "fig.show()"
      ],
      "metadata": {
        "id": "bW66kQYiZ4oq"
      },
      "execution_count": null,
      "outputs": []
    },
    {
      "cell_type": "markdown",
      "source": [
        "From the graph above we can see the top 10 Author. We can see that Agatha Christie has written most number of books that is 632."
      ],
      "metadata": {
        "id": "LIgdkT0SaEeg"
      }
    },
    {
      "cell_type": "markdown",
      "source": [
        "## **Number of Books Publish Per Year**"
      ],
      "metadata": {
        "id": "d_OCmdKNaGxD"
      }
    },
    {
      "cell_type": "code",
      "source": [
        "# lets plot bar graph for number of books published per year\n",
        "year_book=books['Year-Of-Publication'].value_counts().reset_index().rename(columns={'index':'Year','Year-Of-Publication':'Count'}).sort_values(by='Year',ascending=False)\n",
        "fig = go.Figure()\n",
        "fig.add_trace(go.Bar(x=year_book.Year, y=year_book.Count,\n",
        "                \n",
        "                marker_color='crimson',\n",
        "                name='expenses'))\n",
        "fig.update_layout(\n",
        "    \n",
        "    width=1000, height=450,\n",
        "    title='Number of book publish per year',\n",
        "    xaxis_title=\"Year\",\n",
        "    yaxis_title=\"Number of Books\",\n",
        "    template=\"plotly+presentation+xgridoff\",\n",
        "    \n",
        ")\n",
        "fig.show()"
      ],
      "metadata": {
        "id": "y9Jld2kuZ_w6"
      },
      "execution_count": null,
      "outputs": []
    },
    {
      "cell_type": "markdown",
      "source": [
        "From the above graph we can see that most of the books are published between 1980-2000."
      ],
      "metadata": {
        "id": "y3PaxIp8acTo"
      }
    },
    {
      "cell_type": "markdown",
      "source": [
        "# Top 10 Country having highest number of reader"
      ],
      "metadata": {
        "id": "oDk2e0tRafcE"
      }
    },
    {
      "cell_type": "code",
      "source": [
        "# top 10 Country \n",
        "country_count=users['Country'].value_counts()[:10].reset_index().rename(columns={'index':'country','Country':'count'}).sort_values(by='count',ascending=False)"
      ],
      "metadata": {
        "id": "tYXAPrjaaX4-"
      },
      "execution_count": null,
      "outputs": []
    },
    {
      "cell_type": "code",
      "source": [
        "# top 10 country based on number of readers\n",
        "fig = px.histogram(x= country_count['country'],y=country_count['count'],orientation=None , width=650, height=450,\n",
        "              text_auto=True, color=country_count['country']\n",
        "             )\n",
        "fig.update_layout(\n",
        "    title='Top 10 Country having highest number of reader',\n",
        "    xaxis_title=\"country\",\n",
        "    yaxis_title=\"Number of readers\",\n",
        "    template=\"plotly_dark\",\n",
        "    \n",
        ")\n",
        "fig.show()"
      ],
      "metadata": {
        "id": "lMIkuCOWao7v"
      },
      "execution_count": null,
      "outputs": []
    },
    {
      "cell_type": "markdown",
      "source": [
        "As we can see from above plot most of the readers are from USA."
      ],
      "metadata": {
        "id": "JtayJ2a7a1PK"
      }
    },
    {
      "cell_type": "markdown",
      "source": [
        "## **Top 10 States of USA having highest number of reader**"
      ],
      "metadata": {
        "id": "_PBE40p7a-Qd"
      }
    },
    {
      "cell_type": "code",
      "source": [
        "# top 10 State of USA\n",
        "state_usa=users.loc[users['Country']=='usa',['State']].value_counts()[:10].reset_index().rename(columns={0:'count'})\n"
      ],
      "metadata": {
        "id": "UKBT8FxWaxph"
      },
      "execution_count": null,
      "outputs": []
    },
    {
      "cell_type": "code",
      "source": [
        "# top 10  States of USA based on number of readers\n",
        "fig = px.histogram(x= state_usa['State'],y=state_usa['count'],orientation=None , width=650, height=450,\n",
        "              text_auto=True, color=state_usa['State']\n",
        "             )\n",
        "fig.update_layout(\n",
        "    title='Top 10 States of USA having highest number of reader',\n",
        "    xaxis_title=\"States\",\n",
        "    yaxis_title=\"Number of readers\",\n",
        "    template=\"plotly_dark\",\n",
        "    \n",
        ")\n",
        "fig.show()"
      ],
      "metadata": {
        "id": "rDIRhpXMbC36"
      },
      "execution_count": null,
      "outputs": []
    },
    {
      "cell_type": "markdown",
      "source": [
        "From above plot we can see that in USA california is having highest number of readers."
      ],
      "metadata": {
        "id": "D9a6KoTXbPbP"
      }
    },
    {
      "cell_type": "markdown",
      "source": [
        "## **Top 10 cities of USA having highest number of reader**"
      ],
      "metadata": {
        "id": "Sm2C5yA6bVD1"
      }
    },
    {
      "cell_type": "code",
      "source": [
        "# Top 10 cities\n",
        "cities=users.loc[(users['State']=='california'),['City']].value_counts()[:10].reset_index().rename(columns={0:'count'})\n",
        "fig = px.histogram(x= cities['City'],y=cities['count'],orientation=None , width=650, height=450,\n",
        "              text_auto=True, color=cities['City']\n",
        "             )\n",
        "fig.update_layout(\n",
        "    title='Top 10 cities of USA having highest number of reader',\n",
        "    xaxis_title=\"cities\",\n",
        "    yaxis_title=\"Number of readers\",\n",
        "    template=\"plotly_dark\",\n",
        "    \n",
        ")\n",
        "fig.show()"
      ],
      "metadata": {
        "id": "PgfIt-5WbLWJ"
      },
      "execution_count": null,
      "outputs": []
    },
    {
      "cell_type": "markdown",
      "source": [
        "In USA San diego is having highest number of reader followed by san francisco and Los Angeles."
      ],
      "metadata": {
        "id": "Bu-tf0Fqbk0_"
      }
    },
    {
      "cell_type": "markdown",
      "source": [
        "# Top 10 State in the World having highest number of reader"
      ],
      "metadata": {
        "id": "jqElxUuAbn9i"
      }
    },
    {
      "cell_type": "code",
      "source": [
        "# top 10 States of world based on number of readers\n",
        "top_10_states=users['State'].value_counts()[:10].reset_index().rename(columns={'index':'state','State':'count'})\n",
        "fig = px.histogram(x= top_10_states['state'],y=top_10_states['count'],orientation=None , width=650, height=450,\n",
        "              text_auto=True, color=top_10_states['state']\n",
        "             )\n",
        "fig.update_layout(\n",
        "    title='Top 10 State in the World having highest number of reader',\n",
        "    xaxis_title=\"States\",\n",
        "    yaxis_title=\"Number of readers\",\n",
        "    template=\"plotly_dark\",\n",
        "    \n",
        ")\n",
        "fig.show()"
      ],
      "metadata": {
        "id": "UfB1h_kGbdV4"
      },
      "execution_count": null,
      "outputs": []
    },
    {
      "cell_type": "markdown",
      "source": [
        "Here we can see that California is stil having highest number of reader."
      ],
      "metadata": {
        "id": "357QyJABb5Dx"
      }
    },
    {
      "cell_type": "markdown",
      "source": [
        "## **Top 10 Cities in the World having highest number of reader**"
      ],
      "metadata": {
        "id": "8SHowIKnb-zO"
      }
    },
    {
      "cell_type": "code",
      "source": [
        "# top 10 cities of world based on number of readers\n",
        "top_10_cities=users['City'].value_counts()[:10].reset_index().rename(columns={'index':'city','City':'count'})\n",
        "fig = px.histogram(x= top_10_cities['city'],y=top_10_cities['count'],orientation=None , width=650, height=450,\n",
        "              text_auto=True, color=top_10_cities['city']\n",
        "             )\n",
        "fig.update_layout(\n",
        "    title='Top 10 Cities in the World having highest number of reader',\n",
        "    xaxis_title=\"Cities\",\n",
        "    yaxis_title=\"Number of readers\",\n",
        "    template=\"plotly_dark\",\n",
        "    \n",
        ")\n",
        "fig.show()"
      ],
      "metadata": {
        "id": "EyHtNhQjbuT0"
      },
      "execution_count": null,
      "outputs": []
    },
    {
      "cell_type": "markdown",
      "source": [
        "Here we can see that unlike cities in the United States, we have the largest number of readers here in London, followed by Barcelona."
      ],
      "metadata": {
        "id": "qBKpLKsycMD_"
      }
    },
    {
      "cell_type": "markdown",
      "source": [
        "## **Percentage of book rating by all users**"
      ],
      "metadata": {
        "id": "HHDJwh6_cOmD"
      }
    },
    {
      "cell_type": "code",
      "source": [
        "# lets define a function to calculate percentage of book rating\n",
        "def without_hue(ax, feature):\n",
        "    total = len(feature)\n",
        "    for p in ax.patches:\n",
        "        percentage = '{:.1f}%'.format(100 * p.get_height()/total)\n",
        "        x = p.get_x() + p.get_width() / 2 - 0.05\n",
        "        y = p.get_y() + p.get_height()\n",
        "        ax.annotate(percentage, (x, y), size = 12)"
      ],
      "metadata": {
        "id": "4Utr8BQscFL_"
      },
      "execution_count": null,
      "outputs": []
    },
    {
      "cell_type": "code",
      "source": [
        "# lets plot a bar graph for number of books of different ratings\n",
        "plt.figure(figsize=(15,12))\n",
        "ax=sns.countplot(x=\"ratings\", data=dataset,palette='gist_earth_r')\n",
        "without_hue(ax,dataset['ratings'])"
      ],
      "metadata": {
        "id": "NeZ4t_1NcTcp"
      },
      "execution_count": null,
      "outputs": []
    },
    {
      "cell_type": "markdown",
      "source": [
        "## **Recommendation Systems**"
      ],
      "metadata": {
        "id": "VAnNaPdWckjQ"
      }
    },
    {
      "cell_type": "markdown",
      "source": [
        "![RS.jpg](data:image/jpeg;base64,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)"
      ],
      "metadata": {
        "id": "UMHzCv8Kdx0-"
      }
    },
    {
      "cell_type": "markdown",
      "source": [
        "## **Popularity Based Filtering:-**\n",
        "As the name suggests Popularity based recommendation system works with the trend. It basically uses the items which are in trend right now. For example, if any book which is usually bought by every new user then there are chances that it may suggest that book to the user who just signed up. Book weighted avg formula:\n",
        "\n",
        "Weighted Rating(WR)=[vR/(v+m)]+[mC/(v+m)]\n",
        "\n",
        "where,\n",
        "\n",
        "v is the number of votes for the books;\n",
        "\n",
        "m is the minimum votes required to be listed in the chart;\n",
        "\n",
        "R is the average rating of the book; and\n",
        "\n",
        "C is the mean vote across the whole report.\n",
        "\n",
        "Now we find the values of v,m,R,C."
      ],
      "metadata": {
        "id": "KipPLYEBeDFL"
      }
    },
    {
      "cell_type": "code",
      "source": [
        "C= dataset['Avg_Rating'].mean()\n",
        "m= dataset['Total_No_Of_Users_Rated'].quantile(0.90)\n",
        "Top_Books = dataset.loc[dataset['Total_No_Of_Users_Rated'] >= m]\n",
        "print(f'C={C} , m={m}')\n",
        "Top_Books.shape"
      ],
      "metadata": {
        "id": "hmvM5aOAcWhw"
      },
      "execution_count": null,
      "outputs": []
    },
    {
      "cell_type": "markdown",
      "source": [
        "\n",
        "Here we used 90th percentile as our cutoff. In other words, for a book to feature in the charts, it must have more votes than at least 90% of the books in the list.\n",
        "\n",
        "We see that there are 38570 books which qualify to be in this list. Now, we need to calculate our metric for each qualified book. To do this, we will define a function, weighted_rating() and define a new feature score, of which we’ll calculate the value by applying this function to our DataFrame of qualified books:"
      ],
      "metadata": {
        "id": "1ZYX2j8geObz"
      }
    },
    {
      "cell_type": "code",
      "source": [
        "def weighted_rating(x, m=m, C=C):\n",
        "    v = x['Total_No_Of_Users_Rated']\n",
        "    R = x['Avg_Rating']\n",
        "    return (v/(v+m) * R) + (m/(m+v) * C)\n",
        "    \n",
        " \n",
        "Top_Books['Score'] = Top_Books.apply(weighted_rating,axis=1)\n",
        " \n",
        " \n",
        "#Sorting books based on score calculated above\n",
        "Top_Books = Top_Books.sort_values('Score', ascending=False)"
      ],
      "metadata": {
        "id": "cnxArqVFeKFZ"
      },
      "execution_count": null,
      "outputs": []
    },
    {
      "cell_type": "code",
      "source": [
        "#Keeping only one entry of each book\n",
        "Top_Books=Top_Books.sort_values('Score', ascending=False).drop_duplicates('ISBN').sort_index()\n",
        "cm=sns.light_palette('green',as_cmap=True)\n",
        "#Sorting books based on score calculated above\n",
        "Top_Books = Top_Books.sort_values('Score', ascending=False)\n",
        "\n",
        "#Printing the top 20 books\n",
        "Top_Books[['Book-Title', 'Total_No_Of_Users_Rated', 'Avg_Rating', 'Score']].reset_index(drop=True).head(20).style.background_gradient(cmap=cm)"
      ],
      "metadata": {
        "id": "0IgyxsoaeVcp"
      },
      "execution_count": null,
      "outputs": []
    },
    {
      "cell_type": "markdown",
      "source": [
        "The Popularity based recommender provide a general chart of recommended books to all the users. They are not sensitive to the interests and tastes of a particular user."
      ],
      "metadata": {
        "id": "clx69D2_eiXs"
      }
    },
    {
      "cell_type": "markdown",
      "source": [
        "## **Model Based Collaborative Filtering Recommender:-**\n",
        "The goal of the recommender system is to predict user preference for a set of items based on the past experience. Two the most popular approaches are Content-Based and Collaborative Filtering. Collaborative filtering is a technique used by websites like Amazon, YouTube, and Netflix. It filters out items that a user might like on the basis of reactions of similar users. There are two categories of collaborative filtering algorithms: memory based and model based. Model based approach involves building machine learning algorithms to predict user's ratings. They involve dimensionality reduction methods that reduce high dimensional matrix containing abundant number of missing values with a much smaller matrix in lower-dimensional space. The goal of this section is to compare SVD and NMF algorithms, try different configurations of parameters and explore obtained results.\n",
        "\n"
      ],
      "metadata": {
        "id": "QQUb8nV-ek93"
      }
    },
    {
      "cell_type": "code",
      "source": [
        "#lets import the important libraries to proceed\n",
        "import scipy\n",
        "import math\n",
        "import sklearn\n",
        "from nltk.corpus import stopwords\n",
        "from sklearn.model_selection import train_test_split\n",
        "from sklearn.feature_extraction.text import TfidfVectorizer\n",
        "from sklearn.metrics.pairwise import cosine_similarity\n",
        "from scipy.sparse.linalg import svds\n",
        "import matplotlib.pyplot as plt"
      ],
      "metadata": {
        "id": "b0j8Zqsgea_j"
      },
      "execution_count": null,
      "outputs": []
    },
    {
      "cell_type": "markdown",
      "source": [
        "This analysis will focus on book recommendations based on Book-Crossing dataset. To reduce the dimensionality of the dataset and avoid running into memory error we will focus on users with at least 3 ratings and top 10% most frequently rated books. The recommender systems will be built using surprise package (Matrix Factorization - based models)."
      ],
      "metadata": {
        "id": "Y3Fivps6e1ug"
      }
    },
    {
      "cell_type": "code",
      "source": [
        "rating_explicit.rename(columns = {'User-ID':'user_id' ,'ISBN':'isbn' ,'Book-Rating':'book_rating'},inplace=True)"
      ],
      "metadata": {
        "id": "gDt5hhPNeyla"
      },
      "execution_count": null,
      "outputs": []
    },
    {
      "cell_type": "code",
      "source": [
        "user_ratings_threshold = 3\n",
        "\n",
        "filter_users = rating_explicit['user_id'].value_counts()\n",
        "filter_users_list = filter_users[filter_users >= user_ratings_threshold].index.to_list()\n",
        "\n",
        "df_ratings_top = rating_explicit[rating_explicit['user_id'].isin(filter_users_list)]\n",
        "\n",
        "print('Filter: users with at least %d ratings\\nNumber of records: %d' % (user_ratings_threshold, len(df_ratings_top)))\n",
        "     "
      ],
      "metadata": {
        "id": "vA0FS19mflMM"
      },
      "execution_count": null,
      "outputs": []
    },
    {
      "cell_type": "markdown",
      "source": [
        "## **SVD and NMF models comparison:-**\n",
        "\n",
        "Singular Value Decomposition (SVD) and Non-negative Matrix Factorization (NMF) are matrix factorization techniques used for dimensionality reduction. Surprise package provides implementation of those algorithms."
      ],
      "metadata": {
        "id": "-MWBBryPg43d"
      }
    },
    {
      "cell_type": "code",
      "source": [
        "# lets install the surprise package\n",
        "!pip install surprise\n",
        "     "
      ],
      "metadata": {
        "id": "0yRYiutDfoas"
      },
      "execution_count": null,
      "outputs": []
    },
    {
      "cell_type": "code",
      "source": [
        "from surprise import Dataset, Reader\n",
        "from surprise import SVD, NMF\n",
        "from surprise.model_selection import cross_validate, train_test_split, GridSearchCV"
      ],
      "metadata": {
        "id": "qzthRR5dhBaP"
      },
      "execution_count": null,
      "outputs": []
    },
    {
      "cell_type": "code",
      "source": [
        "\n",
        "df=df_ratings_top.copy()\n",
        "reader = Reader(rating_scale=(1, 10))\n",
        "data = Dataset.load_from_df(df[['user_id', 'isbn', 'ratings']], reader)"
      ],
      "metadata": {
        "id": "-tX3PtSkheis"
      },
      "execution_count": null,
      "outputs": []
    },
    {
      "cell_type": "code",
      "source": [
        "model_svd = SVD()\n",
        "cv_results_svd = cross_validate(model_svd, data, cv=3)\n",
        "pd.DataFrame(cv_results_svd).mean()\n",
        "     "
      ],
      "metadata": {
        "id": "Zk43PU6chg4U"
      },
      "execution_count": null,
      "outputs": []
    },
    {
      "cell_type": "code",
      "source": [
        "model_nmf = NMF()\n",
        "cv_results_nmf = cross_validate(model_nmf, data, cv=3)\n",
        "pd.DataFrame(cv_results_nmf).mean()\n",
        "     "
      ],
      "metadata": {
        "id": "DECP6kxJhm2f"
      },
      "execution_count": null,
      "outputs": []
    },
    {
      "cell_type": "markdown",
      "source": [
        "It's clear that for the given dataset much better results can be obtained with SVD approach - both in terms of accuracy and training / testing time."
      ],
      "metadata": {
        "id": "UaKn8AkchyQR"
      }
    },
    {
      "cell_type": "markdown",
      "source": [
        "## **Optimisation of SVD algorithm:-**\n",
        "Grid Search Cross Validation computes accuracy metrics for an algorithm on various combinations of parameters, over a cross-validation procedure. It's useful for finding the best configuration of parameters. It is used to find the best setting of parameters: n_factors - the number of factors n_epochs - the number of iteration of the SGD procedure lr_all - the learning rate for all parameters reg_all - the regularization term for all parameters As a result, regarding the majority of parameters, the default setting is the most optimal one. The improvement obtained with Grid Search is very small."
      ],
      "metadata": {
        "id": "8hVpcTJ7h01z"
      }
    },
    {
      "cell_type": "code",
      "source": [
        "param_grid = {'n_factors': [80,100],\n",
        "              'n_epochs': [5, 20],\n",
        "              'lr_all': [0.002, 0.005],\n",
        "              'reg_all': [0.2, 0.4]}\n",
        "\n",
        "gs = GridSearchCV(SVD, param_grid, measures=['rmse', 'mae'], cv=3)\n",
        "gs.fit(data)\n",
        "\n",
        "print(gs.best_score['rmse'])\n",
        "print(gs.best_params['rmse'])"
      ],
      "metadata": {
        "id": "DIk6IytYhtV_"
      },
      "execution_count": null,
      "outputs": []
    },
    {
      "cell_type": "markdown",
      "source": [
        "## **Analysis of Collaborative Filtering model results:-**\n",
        "In this part, let's examine in detail the results obtained by the SVD model that provided the best RMSE score."
      ],
      "metadata": {
        "id": "j_WEF-foh_ph"
      }
    },
    {
      "cell_type": "code",
      "source": [
        "trainset, testset = train_test_split(data, test_size=0.2)\n",
        "\n",
        "model = SVD(n_factors=80, n_epochs=20, lr_all=0.005, reg_all=0.2)\n",
        "model.fit(trainset)\n",
        "predictions = model.test(testset)"
      ],
      "metadata": {
        "id": "9erYXoB2h6ba"
      },
      "execution_count": null,
      "outputs": []
    },
    {
      "cell_type": "code",
      "source": [
        "df_pred = pd.DataFrame(predictions, columns=['user_id', 'isbn', 'actual_rating', 'pred_rating', 'details'])\n",
        "df_pred['impossible'] = df_pred['details'].apply(lambda x: x['was_impossible'])\n",
        "df_pred['pred_rating_round'] = df_pred['pred_rating'].round()\n",
        "df_pred['abs_err'] = abs(df_pred['pred_rating'] - df_pred['actual_rating'])\n",
        "df_pred.drop(['details'], axis=1, inplace=True)\n",
        "df_pred.sample(5)"
      ],
      "metadata": {
        "id": "b_ThyjHtiFhZ"
      },
      "execution_count": null,
      "outputs": []
    },
    {
      "cell_type": "markdown",
      "source": [
        "Distribution of actual and predicted ratings in the test set According to the distribution of actual ratings of books in the test set, the biggest part of users give positive scores - between 7 and 10. The mode equals 8 but count of ratings 7, 9, 10 is also noticeable. The distribution of predicted ratings in the test set is visibly different. One more time, 8 is a mode but scores 7, 9 and 10 are clearly less frequent.\n",
        "\n",
        "It shows that the recommender system is not perfect and it cannot reflect the real distribution of book ratings."
      ],
      "metadata": {
        "id": "eg9oTd-4iOS7"
      }
    },
    {
      "cell_type": "code",
      "source": [
        "palette = sns.color_palette(\"CMRmap_r\", 10)\n",
        "fig, (ax1, ax2) = plt.subplots(nrows=1, ncols=2, figsize=(16, 5))\n",
        "\n",
        "sns.countplot(x='actual_rating', data=df_pred, palette=palette, ax=ax1)\n",
        "ax1.set_title('Distribution of actual ratings of books in the test set')\n",
        "\n",
        "sns.countplot(x='pred_rating_round', data=df_pred, palette=palette, ax=ax2)\n",
        "ax2.set_title('Distribution of predicted ratings of books in the test set')\n",
        "\n",
        "plt.show()\n",
        "     "
      ],
      "metadata": {
        "id": "rB-kcDxyiLp2"
      },
      "execution_count": null,
      "outputs": []
    },
    {
      "cell_type": "markdown",
      "source": [
        "## **Absolute error of predicted ratings:-**\n",
        "The distribution of absolute errors is right-skewed, showing that the majority of errors is small: between 0 and 1. There is a long tail that indicates that there are several observations for which the absolute error was close to 10. How good/bad the model is with predicting certain scores? As expected from the above charts, the model deals very well with predicting score = 8 (the most frequent value). The further the rating from score = 8, the higher the absolute error. The biggest errors happen to observations with scores 1 or 2 which indicates that probably the model is predicting high ratings for those observations."
      ],
      "metadata": {
        "id": "FVqgL3xfiV80"
      }
    },
    {
      "cell_type": "code",
      "source": [
        "df_pred_err = df_pred.groupby('actual_rating')['abs_err'].mean().reset_index()\n",
        "\n",
        "fig, (ax1, ax2) = plt.subplots(nrows=1, ncols=2, figsize=(14, 4))\n",
        "\n",
        "sns.distplot(df_pred['abs_err'], color='#2f6194', ax=ax1)\n",
        "ax1.set_title('Distribution of absolute error in test set')\n",
        "\n",
        "sns.barplot(x='actual_rating', y='abs_err', data=df_pred_err, palette=palette, ax=ax2)\n",
        "ax2.set_title('Mean absolute error for rating in test set')\n",
        "\n",
        "plt.show()"
      ],
      "metadata": {
        "id": "MBa7wiSViTdU"
      },
      "execution_count": null,
      "outputs": []
    },
    {
      "cell_type": "markdown",
      "source": [
        "## **Analysis of predicted ratings of a particular user:-**\n",
        "For this part of the analysis, the user with id 193458 was selected. By analyzing book ratings by this user, it can be noted that he/she likes diverse types of readings: English romantic novels (Pride and Prejudice, Sense and Sensibility), fantasy (Narnia) as well as historical novels (Schindler's List). Among the recommended books there are other works from Narnia's series, two historical novels and one romance which correlates with user's previous preferences."
      ],
      "metadata": {
        "id": "LiaxooeMifAT"
      }
    },
    {
      "cell_type": "code",
      "source": [
        "df_books = books.copy()\n",
        "df_books.rename(columns = {'ISBN':'isbn' ,'Book-Title':'book_title'},inplace=True)\n",
        "df_ext = df.merge(df_books[['isbn', 'book_title']], on='isbn', how='left')\n",
        "df_ext = df_ext.merge(df_pred[['isbn', 'user_id', 'pred_rating']], on=['isbn', 'user_id'], how='left')"
      ],
      "metadata": {
        "id": "BsPWTYNYic58"
      },
      "execution_count": null,
      "outputs": []
    },
    {
      "cell_type": "markdown",
      "source": [
        "## **Train set: Top rated books:-**"
      ],
      "metadata": {
        "id": "9Bld2Jy_il-d"
      }
    },
    {
      "cell_type": "code",
      "source": [
        "selected_user_id = 193458\n",
        "df_user = df_ext[df_ext['user_id']==selected_user_id]\n",
        "\n",
        "df_user[(df_user['pred_rating'].isna())&(df_user['ratings']>=9)].sample(10)"
      ],
      "metadata": {
        "id": "sf6jm-eXijbz"
      },
      "execution_count": null,
      "outputs": []
    },
    {
      "cell_type": "markdown",
      "source": [
        "## **Test set: predicted top rated books:-**"
      ],
      "metadata": {
        "id": "cxwONWfmisgs"
      }
    },
    {
      "cell_type": "code",
      "source": [
        "df_user[df_user['pred_rating'].notna()].sort_values('pred_rating', ascending=False).head(5)"
      ],
      "metadata": {
        "id": "B6L7mkV9iqDM"
      },
      "execution_count": null,
      "outputs": []
    },
    {
      "cell_type": "markdown",
      "source": [
        "## **Test set: actual top rated books:-**"
      ],
      "metadata": {
        "id": "gWMW5dijizV3"
      }
    },
    {
      "cell_type": "code",
      "source": [
        "df_user[df_user['pred_rating'].notna()].sort_values('ratings', ascending=False).head(5)"
      ],
      "metadata": {
        "id": "zu0KO1iwiwWl"
      },
      "execution_count": null,
      "outputs": []
    },
    {
      "cell_type": "markdown",
      "source": [
        "## **Collaborative Filtering based Recommendation System--(User-Item Based)**"
      ],
      "metadata": {
        "id": "PMF962Sti6aU"
      }
    },
    {
      "cell_type": "code",
      "source": [
        "# lets import important libraries\n",
        "from sklearn.neighbors import NearestNeighbors\n",
        "from sklearn.feature_extraction import DictVectorizer\n",
        "from sklearn.metrics.pairwise import cosine_similarity\n",
        "from sklearn.feature_extraction.text import TfidfVectorizer\n",
        "from scipy.spatial.distance import correlation\n",
        "import operator\n",
        "from sklearn.metrics.pairwise import pairwise_distances\n",
        "import ipywidgets as widgets\n",
        "from IPython.display import display, clear_output\n",
        "from contextlib import contextmanager\n",
        "import numpy as np\n",
        "import os, sys\n",
        "import re\n",
        "from scipy.sparse import csr_matrix"
      ],
      "metadata": {
        "id": "8guS6q71i3Y9"
      },
      "execution_count": null,
      "outputs": []
    },
    {
      "cell_type": "code",
      "source": [
        "# Taking book name and Number of recommendatison of book\n",
        "bookName = input(\"Enter a book name: \")\n",
        "number = int(input(\"Enter number of books to recommend: \"))\n",
        "     "
      ],
      "metadata": {
        "id": "0WwSv1Lmi9wV"
      },
      "execution_count": null,
      "outputs": []
    },
    {
      "cell_type": "code",
      "source": [
        "df = pd.DataFrame(dataset['Book-Title'].value_counts())\n",
        "df['Total-Ratings'] = df['Book-Title']\n",
        "df['Book-Title'] = df.index\n",
        "df.reset_index(level=0, inplace=True)\n",
        "df = df.drop('index',axis=1)\n",
        "\n",
        "df = dataset.merge(df, left_on = 'Book-Title', right_on = 'Book-Title', how = 'left')\n",
        "df = df.drop(['Year-Of-Publication','Publisher','Age','City','State','Country'], axis=1)\n",
        "\n",
        "popularity_threshold = 50\n",
        "popular_book = df[df['Total-Ratings'] >= popularity_threshold]\n",
        "popular_book = popular_book.reset_index(drop = True)\n",
        "     "
      ],
      "metadata": {
        "id": "g82DdKiojAZP"
      },
      "execution_count": null,
      "outputs": []
    },
    {
      "cell_type": "code",
      "source": [
        "testdf = pd.DataFrame()\n",
        "testdf['ISBN'] = popular_book['ISBN']\n",
        "testdf['rating'] = popular_book['ratings']\n",
        "testdf['User-ID'] = popular_book['User-ID']\n",
        "testdf = testdf[['User-ID','rating']].groupby(testdf['ISBN'])"
      ],
      "metadata": {
        "id": "Elk3y93mjDIH"
      },
      "execution_count": null,
      "outputs": []
    },
    {
      "cell_type": "code",
      "source": [
        "listOfDictonaries=[]\n",
        "indexMap = {}\n",
        "reverseIndexMap = {}\n",
        "ptr=0\n",
        "\n",
        "for groupKey in testdf.groups.keys():\n",
        "    tempDict={}\n",
        "    groupDF = testdf.get_group(groupKey)\n",
        "    for i in range(0,len(groupDF)):\n",
        "        tempDict[groupDF.iloc[i,0]] = groupDF.iloc[i,1]\n",
        "    indexMap[ptr]=groupKey\n",
        "    reverseIndexMap[groupKey] = ptr\n",
        "    ptr=ptr+1\n",
        "    listOfDictonaries.append(tempDict)\n",
        "\n",
        "dictVectorizer = DictVectorizer(sparse=True)\n",
        "vector = dictVectorizer.fit_transform(listOfDictonaries)\n",
        "pairwiseSimilarity = cosine_similarity(vector)"
      ],
      "metadata": {
        "id": "NuAk_apkjFc0"
      },
      "execution_count": null,
      "outputs": []
    },
    {
      "cell_type": "code",
      "source": [
        "def printBookDetails(bookID):\n",
        "    print(dataset[dataset['ISBN']==bookID]['Book-Title'].values[0])\n",
        "   \n",
        "\n",
        "def getTopRecommandations(bookID):\n",
        "    collaborative = []\n",
        "    row = reverseIndexMap[bookID]\n",
        "    print(\"Input Book:\")\n",
        "    printBookDetails(bookID)\n",
        "    \n",
        "    print(\"\\nRECOMMENDATIONS:\\n\")\n",
        "    \n",
        "    mn = 0\n",
        "    similar = []\n",
        "    for i in np.argsort(pairwiseSimilarity[row])[:-2][::-1]:\n",
        "          if dataset[dataset['ISBN']==indexMap[i]]['Book-Title'].values[0] not in similar:\n",
        "                if mn>=number:\n",
        "                      break\n",
        "                mn+=1\n",
        "                similar.append(dataset[dataset['ISBN']==indexMap[i]]['Book-Title'].values[0])\n",
        "                printBookDetails(indexMap[i])\n",
        "                collaborative.append(dataset[dataset['ISBN']==indexMap[i]]['Book-Title'].values[0])\n",
        "    return collaborative"
      ],
      "metadata": {
        "id": "4pGourxkjHRf"
      },
      "execution_count": null,
      "outputs": []
    },
    {
      "cell_type": "code",
      "source": [
        "k = list(dataset['Book-Title'])\n",
        "m = list(dataset['ISBN'])\n",
        "\n",
        "collaborative = getTopRecommandations(m[k.index(bookName)])"
      ],
      "metadata": {
        "id": "L8CCNqWKjJs3"
      },
      "execution_count": null,
      "outputs": []
    },
    {
      "cell_type": "markdown",
      "source": [
        "## **Correlation Based:-**"
      ],
      "metadata": {
        "id": "QEJqPSwJjOHe"
      }
    },
    {
      "cell_type": "code",
      "source": [
        "popularity_threshold = 50\n",
        "\n",
        "user_count = dataset['User-ID'].value_counts()\n",
        "data = dataset[dataset['User-ID'].isin(user_count[user_count >= popularity_threshold].index)]\n",
        "rat_count = data['ratings'].value_counts()\n",
        "data = data[data['ratings'].isin(rat_count[rat_count >= popularity_threshold].index)]\n",
        "\n",
        "matrix = data.pivot_table(index='User-ID', columns='ISBN', values = 'ratings').fillna(0)"
      ],
      "metadata": {
        "id": "OIgl5W14jMWf"
      },
      "execution_count": null,
      "outputs": []
    },
    {
      "cell_type": "code",
      "source": [
        "average_rating = pd.DataFrame(dataset.groupby('ISBN')['ratings'].mean())\n",
        "average_rating['ratingCount'] = pd.DataFrame(ratings.groupby('ISBN')['ratings'].count())\n",
        "average_rating.sort_values('ratingCount', ascending=False).head()\n",
        "     "
      ],
      "metadata": {
        "id": "HGpXRps7jRnm"
      },
      "execution_count": null,
      "outputs": []
    },
    {
      "cell_type": "code",
      "source": [
        "isbn = books.loc[books['Book-Title'] == bookName].reset_index(drop = True).iloc[0]['ISBN']\n",
        "row = matrix[isbn]\n",
        "correlation = pd.DataFrame(matrix.corrwith(row), columns = ['Pearson Corr'])\n",
        "corr = correlation.join(average_rating['ratingCount'])\n",
        "\n",
        "res = corr.sort_values('Pearson Corr', ascending=False).head(number+1)[1:].index\n",
        "corr_books = pd.merge(pd.DataFrame(res, columns = ['ISBN']), books, on='ISBN')\n",
        "print(\"\\n Recommended Books: \\n\")\n",
        "corr_books"
      ],
      "metadata": {
        "id": "hv-htclrlgjj"
      },
      "execution_count": null,
      "outputs": []
    },
    {
      "cell_type": "markdown",
      "source": [
        "## **Nearest Neighbours Based:-**"
      ],
      "metadata": {
        "id": "jCSiZxoXlmKn"
      }
    },
    {
      "cell_type": "code",
      "source": [
        "data = (dataset.groupby(by = ['Book-Title'])['ratings'].count().reset_index().\n",
        "        rename(columns = {'Book-Rating': 'Total-Rating'})[['Book-Title', 'ratings']])\n",
        "result = pd.merge(data, dataset, on='Book-Title')\n",
        "result = result[result['ratings_x'] >= popularity_threshold]\n",
        "result = result.reset_index(drop = True)"
      ],
      "metadata": {
        "id": "yqoLUgrZlj7l"
      },
      "execution_count": null,
      "outputs": []
    },
    {
      "cell_type": "code",
      "source": [
        "## table pivot\n",
        "matrix = result.pivot_table(index = 'Book-Title', columns = 'User-ID', values = 'ratings_x').fillna(0)\n",
        "up_matrix = csr_matrix(matrix)"
      ],
      "metadata": {
        "id": "fXCagpWslqvN"
      },
      "execution_count": null,
      "outputs": []
    },
    {
      "cell_type": "code",
      "source": [
        "model = NearestNeighbors(metric = 'cosine', algorithm = 'brute')\n",
        "model.fit(up_matrix)\n",
        "\n",
        "distances, indices = model.kneighbors(matrix.loc[bookName].values.reshape(1, -1), n_neighbors = number+1)\n",
        "print(\"\\nRecommended books:\\n\")\n",
        "for i in range(0, len(distances.flatten())):\n",
        "    if i > 0:\n",
        "        print(matrix.index[indices.flatten()[i]]) "
      ],
      "metadata": {
        "id": "dVORljhElsit"
      },
      "execution_count": null,
      "outputs": []
    },
    {
      "cell_type": "markdown",
      "source": [
        "## **Content Based:-**"
      ],
      "metadata": {
        "id": "guKauQSmmAbV"
      }
    },
    {
      "cell_type": "code",
      "source": [
        "popularity_threshold = 80\n",
        "popular_book = df[df['Total-Ratings'] >= popularity_threshold]\n",
        "popular_book = popular_book.reset_index(drop = True)\n",
        "popular_book.shape"
      ],
      "metadata": {
        "id": "upxZ7N87mAEV"
      },
      "execution_count": null,
      "outputs": []
    },
    {
      "cell_type": "code",
      "source": [
        "tf = TfidfVectorizer(ngram_range=(1, 2), min_df = 1, stop_words='english')\n",
        "tfidf_matrix = tf.fit_transform(popular_book['Book-Title'])\n",
        "tfidf_matrix.shape"
      ],
      "metadata": {
        "id": "hdr22qKumFwN"
      },
      "execution_count": null,
      "outputs": []
    },
    {
      "cell_type": "code",
      "source": [
        "normalized_df = tfidf_matrix.astype(np.float32)\n",
        "cosine_similarities = cosine_similarity(normalized_df, normalized_df)\n",
        "cosine_similarities.shape\n",
        "     "
      ],
      "metadata": {
        "id": "L4hQENMLmHp9"
      },
      "execution_count": null,
      "outputs": []
    },
    {
      "cell_type": "code",
      "source": [
        "print(\"Recommended Books:\\n\")\n",
        "isbn = books.loc[books['Book-Title'] == bookName].reset_index(drop = True).iloc[0]['ISBN']\n",
        "content = []\n",
        "\n",
        "idx = popular_book.index[popular_book['ISBN'] == isbn].tolist()[0]\n",
        "similar_indices = cosine_similarities[idx].argsort()[::-1]\n",
        "similar_items = []\n",
        "for i in similar_indices:\n",
        "    if popular_book['Book-Title'][i] != bookName and popular_book['Book-Title'][i] not in similar_items and len(similar_items) < number:\n",
        "        similar_items.append(popular_book['Book-Title'][i])\n",
        "        content.append(popular_book['Book-Title'][i])\n",
        "\n",
        "for book in similar_items:\n",
        "    print(book)"
      ],
      "metadata": {
        "id": "-ADXH7anmJkW"
      },
      "execution_count": null,
      "outputs": []
    },
    {
      "cell_type": "markdown",
      "source": [
        "## **Hybrid Approach (Content+Collaborative) Using percentile:-**"
      ],
      "metadata": {
        "id": "GmLyNX_3mQDd"
      }
    },
    {
      "cell_type": "code",
      "source": [
        "z = list()\n",
        "k = float(1/number)\n",
        "for x in range(number):\n",
        "      z.append(1-k*x)\n",
        "\n",
        "dictISBN = {}\n",
        "for x in collaborative:\n",
        "      dictISBN[x] = z[collaborative.index(x)]\n",
        "\n",
        "for x in content:\n",
        "    if x not in dictISBN:\n",
        "        dictISBN[x] = z[content.index(x)]\n",
        "    else:\n",
        "        dictISBN[x] += z[content.index(x)]\n",
        "\n",
        "ISBN = dict(sorted(dictISBN.items(),key=operator.itemgetter(1),reverse=True))\n",
        "w=0\n",
        "print(\"Input Book:\\n\")\n",
        "print(bookName)\n",
        "print(\"\\nRecommended Books:\\n\")\n",
        "for x in ISBN.keys():\n",
        "    if w>=number:\n",
        "        break\n",
        "    w+=1\n",
        "    print(x)"
      ],
      "metadata": {
        "id": "kBLHp_k8mMau"
      },
      "execution_count": null,
      "outputs": []
    },
    {
      "cell_type": "markdown",
      "source": [
        "## **Collaborative Filtering based Recommendation System--(User-Item based)**"
      ],
      "metadata": {
        "id": "RRTXbUxSmXSt"
      }
    },
    {
      "cell_type": "code",
      "source": [
        "rating_explicit.head()\n",
        "rating_explicit.rename(columns={'user_id':'User-ID','isbn':'ISBN','book_rating':'Book-Rating'},inplace=True)\n",
        "     "
      ],
      "metadata": {
        "id": "b8l37Gq7mUu9"
      },
      "execution_count": null,
      "outputs": []
    },
    {
      "cell_type": "code",
      "source": [
        "rating_explicit.head()"
      ],
      "metadata": {
        "id": "UcaZ5_XOmagF"
      },
      "execution_count": null,
      "outputs": []
    },
    {
      "cell_type": "code",
      "source": [
        "users_interactions_count_df = rating_explicit.groupby(['ISBN', 'User-ID']).size().groupby('User-ID').size()\n",
        "print('# of users: %d' % len(users_interactions_count_df))\n",
        "\n",
        "users_with_enough_interactions_df = users_interactions_count_df[users_interactions_count_df >= 100].reset_index()[['User-ID']]\n",
        "print('# of users with at least 5 interactions: %d' % len(users_with_enough_interactions_df))"
      ],
      "metadata": {
        "id": "2_YlbrQ5mcfO"
      },
      "execution_count": null,
      "outputs": []
    },
    {
      "cell_type": "code",
      "source": [
        "print('# of interactions: %d' % len(rating_explicit))\n",
        "interactions_from_selected_users_df = rating_explicit.merge(users_with_enough_interactions_df, \n",
        "               how = 'right',\n",
        "               left_on = 'User-ID',\n",
        "               right_on = 'User-ID')\n",
        "print('# of interactions from users with at least 5 interactions: %d' % len(interactions_from_selected_users_df))"
      ],
      "metadata": {
        "id": "M8BA3VIHmfLN"
      },
      "execution_count": null,
      "outputs": []
    },
    {
      "cell_type": "code",
      "source": [
        "interactions_from_selected_users_df.head(10)"
      ],
      "metadata": {
        "id": "1LzzjvRlmiU1"
      },
      "execution_count": null,
      "outputs": []
    },
    {
      "cell_type": "code",
      "source": [
        "import math"
      ],
      "metadata": {
        "id": "tRAq9S2JmmnN"
      },
      "execution_count": null,
      "outputs": []
    },
    {
      "cell_type": "code",
      "source": [
        "def smooth_user_preference(x):\n",
        "    return math.log(1+x, 2)\n",
        "    \n",
        "interactions_full_df = interactions_from_selected_users_df.groupby(['ISBN', 'User-ID'])['ratings'].sum().apply(smooth_user_preference).reset_index()\n",
        "print('# of unique user/item interactions: %d' % len(interactions_full_df))\n",
        "interactions_full_df.head()"
      ],
      "metadata": {
        "id": "SzA2Hcw0mpim"
      },
      "execution_count": null,
      "outputs": []
    },
    {
      "cell_type": "code",
      "source": [
        "from sklearn.model_selection import train_test_split "
      ],
      "metadata": {
        "id": "WGf8Uaa4mr_9"
      },
      "execution_count": null,
      "outputs": []
    },
    {
      "cell_type": "code",
      "source": [
        "interactions_train_df, interactions_test_df = train_test_split(interactions_full_df,\n",
        "                                   stratify=interactions_full_df['User-ID'], \n",
        "                                   test_size=0.20,\n",
        "                                   random_state=42,)\n",
        "\n",
        "print('# interactions on Train set: %d' % len(interactions_train_df))\n",
        "print('# interactions on Test set: %d' % len(interactions_test_df))"
      ],
      "metadata": {
        "id": "AnuAKvPCmwv0"
      },
      "execution_count": null,
      "outputs": []
    },
    {
      "cell_type": "code",
      "source": [
        "interactions_test_df.head()"
      ],
      "metadata": {
        "id": "ocLuMx4Tmyxl"
      },
      "execution_count": null,
      "outputs": []
    },
    {
      "cell_type": "code",
      "source": [
        "#Creating a sparse pivot table with users in rows and items in columns\n",
        "users_items_pivot_matrix_df = interactions_train_df.pivot(index='User-ID', \n",
        "                                                          columns='ISBN', \n",
        "                                                          values='ratings').fillna(0)\n",
        "\n",
        "users_items_pivot_matrix_df.head()"
      ],
      "metadata": {
        "id": "QDIJSsPxm1Q1"
      },
      "execution_count": null,
      "outputs": []
    },
    {
      "cell_type": "code",
      "source": [
        "users_items_pivot_matrix = users_items_pivot_matrix_df.values\n",
        "users_items_pivot_matrix[:10]"
      ],
      "metadata": {
        "id": "RhJxVy_xm4q0"
      },
      "execution_count": null,
      "outputs": []
    },
    {
      "cell_type": "code",
      "source": [
        "users_ids = list(users_items_pivot_matrix_df.index)\n",
        "users_ids[:10]"
      ],
      "metadata": {
        "id": "LE9jIN8onBp9"
      },
      "execution_count": null,
      "outputs": []
    },
    {
      "cell_type": "code",
      "source": [
        "from sklearn.metrics.pairwise import cosine_similarity\n",
        "from scipy.sparse.linalg import svds\n",
        "     "
      ],
      "metadata": {
        "id": "7hnq4o4mnD6l"
      },
      "execution_count": null,
      "outputs": []
    },
    {
      "cell_type": "code",
      "source": [
        "# The number of factors to factor the user-item matrix.\n",
        "NUMBER_OF_FACTORS_MF = 12\n",
        "\n",
        "#Performs matrix factorization of the original user item matrix\n",
        "U, sigma, Vt = svds(users_items_pivot_matrix, k = NUMBER_OF_FACTORS_MF)"
      ],
      "metadata": {
        "id": "PMwMMQzQnGKF"
      },
      "execution_count": null,
      "outputs": []
    },
    {
      "cell_type": "code",
      "source": [
        "users_items_pivot_matrix.shape"
      ],
      "metadata": {
        "id": "k476qQQFnJnW"
      },
      "execution_count": null,
      "outputs": []
    },
    {
      "cell_type": "code",
      "source": [
        "U.shape"
      ],
      "metadata": {
        "id": "Zma4zD5OneF2"
      },
      "execution_count": null,
      "outputs": []
    },
    {
      "cell_type": "code",
      "source": [
        "sigma = np.diag(sigma)\n",
        "sigma.shape"
      ],
      "metadata": {
        "id": "Vyk-9uNznf4N"
      },
      "execution_count": null,
      "outputs": []
    },
    {
      "cell_type": "code",
      "source": [
        "Vt.shape"
      ],
      "metadata": {
        "id": "BOAIHknLnh4l"
      },
      "execution_count": null,
      "outputs": []
    },
    {
      "cell_type": "markdown",
      "source": [
        "After the factorization, we try to to reconstruct the original matrix by multiplying its factors. The resulting matrix is not sparse any more. It was generated predictions for items the user have not yet interaction, which we will exploit for recommendations."
      ],
      "metadata": {
        "id": "FmcwTj7CnlmX"
      }
    },
    {
      "cell_type": "code",
      "source": [
        "all_user_predicted_ratings = np.dot(np.dot(U, sigma), Vt) \n",
        "all_user_predicted_ratings"
      ],
      "metadata": {
        "id": "xKwg8OFEnjb1"
      },
      "execution_count": null,
      "outputs": []
    },
    {
      "cell_type": "code",
      "source": [
        "all_user_predicted_ratings.shape"
      ],
      "metadata": {
        "id": "ACOCT5qNnn5N"
      },
      "execution_count": null,
      "outputs": []
    },
    {
      "cell_type": "code",
      "source": [
        "\n",
        "#Converting the reconstructed matrix back to a Pandas dataframe\n",
        "cf_preds_df = pd.DataFrame(all_user_predicted_ratings, columns = users_items_pivot_matrix_df.columns, index=users_ids).transpose()\n",
        "cf_preds_df.head()"
      ],
      "metadata": {
        "id": "lI1vPBmunpkN"
      },
      "execution_count": null,
      "outputs": []
    },
    {
      "cell_type": "code",
      "source": [
        "len(cf_preds_df.columns)"
      ],
      "metadata": {
        "id": "3IO71Ek1nruW"
      },
      "execution_count": null,
      "outputs": []
    },
    {
      "cell_type": "code",
      "source": [
        "global books\n",
        "books.head()"
      ],
      "metadata": {
        "id": "UEC-uj8-nua9"
      },
      "execution_count": null,
      "outputs": []
    },
    {
      "cell_type": "code",
      "source": [
        "class CFRecommender:\n",
        "    \n",
        "    MODEL_NAME = 'Collaborative Filtering'\n",
        "    \n",
        "    def __init__(self, cf_predictions_df):\n",
        "        self.cf_predictions_df = cf_predictions_df\n",
        "        \n",
        "    def get_model_name(self):\n",
        "        return self.MODEL_NAME\n",
        "        \n",
        "    def recommend_items(self, user_id, items_to_ignore=[], topn=10):\n",
        "        # Get and sort the user's predictions\n",
        "        sorted_user_predictions = self.cf_predictions_df[user_id].sort_values(ascending=False).reset_index().rename(columns={user_id: 'recStrength'})\n",
        "\n",
        "        # Recommend the highest predicted rating content that the user hasn't seen yet.\n",
        "        recommendations_df = sorted_user_predictions[~sorted_user_predictions['ISBN'].isin(items_to_ignore)].sort_values('recStrength', ascending = False).head(topn)\n",
        "        recommendations_df=recommendations_df.merge(books,on='ISBN',how='inner')\n",
        "        recommendations_df=recommendations_df[['ISBN','Book-Title','recStrength']]\n",
        "\n",
        "        return recommendations_df\n",
        "\n",
        "\n",
        "\n",
        "cf_recommender_model = CFRecommender(cf_preds_df)"
      ],
      "metadata": {
        "id": "t7kmboA6nwWV"
      },
      "execution_count": null,
      "outputs": []
    },
    {
      "cell_type": "code",
      "source": [
        "#Indexing by personId to speed up the searches during evaluation\n",
        "interactions_full_indexed_df = interactions_full_df.set_index('User-ID')\n",
        "interactions_train_indexed_df = interactions_train_df.set_index('User-ID')\n",
        "interactions_test_indexed_df = interactions_test_df.set_index('User-ID')"
      ],
      "metadata": {
        "id": "PVRVPZCGnyel"
      },
      "execution_count": null,
      "outputs": []
    },
    {
      "cell_type": "code",
      "source": [
        "def get_items_interacted(UserID, interactions_df):\n",
        "    interacted_items = interactions_df.loc[UserID]['ISBN']\n",
        "    return set(interacted_items if type(interacted_items) == pd.Series else [interacted_items])"
      ],
      "metadata": {
        "id": "KzBcrpgyn0QF"
      },
      "execution_count": null,
      "outputs": []
    },
    {
      "cell_type": "code",
      "source": [
        "class ModelRecommender:\n",
        "\n",
        "    # Function for getting the set of items which a user has not interacted with\n",
        "    def get_not_interacted_items_sample(self, UserID, sample_size, seed=42):\n",
        "        interacted_items = get_items_interacted(UserID, interactions_full_indexed_df)\n",
        "        all_items = set(ratings_explicit['ISBN'])\n",
        "        non_interacted_items = all_items - interacted_items\n",
        "\n",
        "        random.seed(seed)\n",
        "        non_interacted_items_sample = random.sample(non_interacted_items, sample_size)\n",
        "        return set(non_interacted_items_sample)\n",
        "\n",
        "    # Function to verify whether a particular item_id was present in the set of top N recommended items\n",
        "    def _verify_hit_top_n(self, item_id, recommended_items, topn):        \n",
        "            try:\n",
        "                index = next(i for i, c in enumerate(recommended_items) if c == item_id)\n",
        "            except:\n",
        "                index = -1\n",
        "            hit = int(index in range(0, topn))\n",
        "            return hit, index\n",
        "    \n",
        "    # Function to evaluate the performance of model for each user\n",
        "    def evaluate_model_for_user(self, model, person_id):\n",
        "        \n",
        "        # Getting the items in test set\n",
        "        interacted_values_testset = interactions_test_indexed_df.loc[person_id]\n",
        "        \n",
        "        if type(interacted_values_testset['ISBN']) == pd.Series:\n",
        "            person_interacted_items_testset = set(interacted_values_testset['ISBN'])\n",
        "        else:\n",
        "            person_interacted_items_testset = set([int(interacted_values_testset['ISBN'])])\n",
        "            \n",
        "        interacted_items_count_testset = len(person_interacted_items_testset) \n",
        "\n",
        "        # Getting a ranked recommendation list from the model for a given user\n",
        "        person_recs_df = model.recommend_items(person_id, items_to_ignore=get_items_interacted(person_id, interactions_train_indexed_df),topn=10000000000)\n",
        "        print('Recommendation for User-ID = ',person_id)\n",
        "        print(person_recs_df.head(10))\n",
        "\n",
        "        # Function to evaluate the performance of model at overall level\n",
        "    def recommend_book(self, model ,userid):\n",
        "        person_metrics = self.evaluate_model_for_user(model, userid)  \n",
        "        return\n",
        "\n",
        "model_recommender = ModelRecommender()"
      ],
      "metadata": {
        "id": "z6CGl9ASn2A9"
      },
      "execution_count": null,
      "outputs": []
    },
    {
      "cell_type": "markdown",
      "source": [
        "## **Let's recommend books to User-Id 69078 and see the results.**"
      ],
      "metadata": {
        "id": "tqyEnVyqn7Oh"
      }
    },
    {
      "cell_type": "code",
      "source": [
        "user=int(input(\"Enter User ID from above list for book recommendation  \"))\n",
        "model_recommender.recommend_book(cf_recommender_model,user)"
      ],
      "metadata": {
        "id": "C71OTdudn4s8"
      },
      "execution_count": null,
      "outputs": []
    },
    {
      "cell_type": "markdown",
      "source": [
        "## **Evaluate:-**\n",
        "\n",
        "In Recommender Systems, there are a set metrics commonly used for evaluation. We choose to work with Top-N accuracy metrics, which evaluates the accuracy of the top recommendations provided to a user, comparing to the items the user has actually interacted in test set. This evaluation method works as follows:\n",
        "\n",
        "For each user:-\n",
        "\n",
        "For each item the user has interacted in test set.\n",
        "Sample 100 other items the user has never interacted.\n",
        "Ask the recommender model to produce a ranked list of recommended items, from a set composed of one interacted item and the 100 non-interacted items\n",
        "Compute the Top-N accuracy metrics for this user and interacted item from the recommendations ranked list\n",
        "Aggregate the global Top-N accuracy metrics"
      ],
      "metadata": {
        "id": "MMAQ6BzQoEtF"
      }
    },
    {
      "cell_type": "code",
      "source": [
        "#Top-N accuracy metrics consts\n",
        "EVAL_RANDOM_SAMPLE_NON_INTERACTED_ITEMS = 100\n",
        "\n",
        "class ModelEvaluator:\n",
        "\n",
        "    # Function for getting the set of items which a user has not interacted with\n",
        "    def get_not_interacted_items_sample(self, UserID, sample_size, seed=42):\n",
        "        interacted_items = get_items_interacted(UserID, interactions_full_indexed_df)\n",
        "        all_items = set(rating_explicit['ISBN'])\n",
        "        non_interacted_items = all_items - interacted_items\n",
        "\n",
        "        random.seed(seed)\n",
        "        non_interacted_items_sample = random.sample(non_interacted_items, sample_size)\n",
        "        return set(non_interacted_items_sample)\n",
        "\n",
        "    # Function to verify whether a particular item_id was present in the set of top N recommended items\n",
        "    def _verify_hit_top_n(self, item_id, recommended_items, topn):        \n",
        "            try:\n",
        "                index = next(i for i, c in enumerate(recommended_items) if c == item_id)\n",
        "            except:\n",
        "                index = -1\n",
        "            hit = int(index in range(0, topn))\n",
        "            return hit, index\n",
        "    \n",
        "    # Function to evaluate the performance of model for each user\n",
        "    def evaluate_model_for_user(self, model, person_id):\n",
        "        \n",
        "        # Getting the items in test set\n",
        "        interacted_values_testset = interactions_test_indexed_df.loc[person_id]\n",
        "        \n",
        "        if type(interacted_values_testset['ISBN']) == pd.Series:\n",
        "            person_interacted_items_testset = set(interacted_values_testset['ISBN'])\n",
        "        else:\n",
        "            person_interacted_items_testset = set([int(interacted_values_testset['ISBN'])])\n",
        "            \n",
        "        interacted_items_count_testset = len(person_interacted_items_testset) \n",
        "\n",
        "        # Getting a ranked recommendation list from the model for a given user\n",
        "        person_recs_df = model.recommend_items(person_id, items_to_ignore=get_items_interacted(person_id, interactions_train_indexed_df),topn=10000000000)\n",
        "\n",
        "        hits_at_5_count = 0\n",
        "        hits_at_10_count = 0\n",
        "        \n",
        "        # For each item the user has interacted in test set\n",
        "        for item_id in person_interacted_items_testset:\n",
        "            \n",
        "            # Getting a random sample of 100 items the user has not interacted with\n",
        "            non_interacted_items_sample = self.get_not_interacted_items_sample(person_id, sample_size=EVAL_RANDOM_SAMPLE_NON_INTERACTED_ITEMS, seed=item_id)    #%(2**32))\n",
        "\n",
        "            # Combining the current interacted item with the 100 random items\n",
        "            items_to_filter_recs = non_interacted_items_sample.union(set([item_id]))\n",
        "\n",
        "            # Filtering only recommendations that are either the interacted item or from a random sample of 100 non-interacted items\n",
        "            valid_recs_df = person_recs_df[person_recs_df['ISBN'].isin(items_to_filter_recs)]                    \n",
        "            valid_recs = valid_recs_df['ISBN'].values\n",
        "            \n",
        "            # Verifying if the current interacted item is among the Top-N recommended items\n",
        "            hit_at_5, index_at_5 = self._verify_hit_top_n(item_id, valid_recs, 5)\n",
        "            hits_at_5_count += hit_at_5\n",
        "            hit_at_10, index_at_10 = self._verify_hit_top_n(item_id, valid_recs, 10)\n",
        "            hits_at_10_count += hit_at_10\n",
        "\n",
        "        # Recall is the rate of the interacted items that are ranked among the Top-N recommended items\n",
        "        recall_at_5 = hits_at_5_count / float(interacted_items_count_testset)\n",
        "        recall_at_10 = hits_at_10_count / float(interacted_items_count_testset)\n",
        "\n",
        "        person_metrics = {'hits@5_count':hits_at_5_count, \n",
        "                          'hits@10_count':hits_at_10_count, \n",
        "                          'interacted_count': interacted_items_count_testset,\n",
        "                          'recall@5': recall_at_5,\n",
        "                          'recall@10': recall_at_10}\n",
        "        return person_metrics\n",
        "\n",
        "     # Function to evaluate the performance of model at overall level\n",
        "    def evaluate_model(self, model):\n",
        "        \n",
        "        people_metrics = []\n",
        "        \n",
        "        for idx, person_id in enumerate(list(interactions_test_indexed_df.index.unique().values)):    \n",
        "            person_metrics = self.evaluate_model_for_user(model, person_id)  \n",
        "            person_metrics['User-ID'] = person_id\n",
        "            people_metrics.append(person_metrics)\n",
        "            \n",
        "        print('%d users processed' % idx)\n",
        "\n",
        "        detailed_results_df = pd.DataFrame(people_metrics).sort_values('interacted_count', ascending=False)\n",
        "        \n",
        "        global_recall_at_5 = detailed_results_df['hits@5_count'].sum() / float(detailed_results_df['interacted_count'].sum())\n",
        "        global_recall_at_10 = detailed_results_df['hits@10_count'].sum() / float(detailed_results_df['interacted_count'].sum())\n",
        "        \n",
        "        global_metrics = {'modelName': model.get_model_name(),\n",
        "                          'recall@5': global_recall_at_5,\n",
        "                          'recall@10': global_recall_at_10}    \n",
        "        return global_metrics, detailed_results_df\n",
        "    \n",
        "model_evaluator = ModelEvaluator()"
      ],
      "metadata": {
        "id": "9Za3lOLAn-St"
      },
      "execution_count": null,
      "outputs": []
    },
    {
      "cell_type": "code",
      "source": [
        "print('Evaluating Collaborative Filtering (SVD Matrix Factorization) model...')\n",
        "cf_global_metrics, cf_detailed_results_df = model_evaluator.evaluate_model(cf_recommender_model)\n",
        "\n",
        "print('\\nGlobal metrics:\\n%s' % cf_global_metrics)\n",
        "cf_detailed_results_df.head(10)"
      ],
      "metadata": {
        "id": "5ETwGR0ioK_N"
      },
      "execution_count": null,
      "outputs": []
    },
    {
      "cell_type": "markdown",
      "source": [
        "Evaluating the Collaborative Filtering model (SVD matrix factorization), we observe that we got Recall@5 (22%) and Recall@10 (29%)."
      ],
      "metadata": {
        "id": "hM9xd_djoQ0s"
      }
    },
    {
      "cell_type": "markdown",
      "source": [
        "# **Conclusion**\n",
        "\n",
        "\n",
        "\n",
        "\n",
        "*   In EDA, the Top-10 most rated books were essentially novels. Books like The Lovely Bone and The Secret Life of Bees were very well perceived.\n",
        "\n",
        "*   Majority of the readers were of the age bracket 20–35 and most of them came from North American and European countries namely USA, Canada, UK, Germany and Spain.\n",
        "\n",
        "*   If we look at the ratings distribution, most of the books have high ratings with maximum books being rated 8. Ratings below 5 are few in number.\n",
        "\n",
        "*   Amongst the memory based approach, item-item CF performed better than user-user CF because of lower computation requirements\n",
        "*   Author with the most books was Agatha Christie, William Shakespeare and Stephen King.\n",
        "\n",
        "\n",
        "*   For modelling, it was observed that for model based collaborative filtering SVD technique worked way better than NMF with lower Mean Absolute Error (MAE)\n",
        "\n",
        "\n",
        "*   Handling of sparsity was a major challenge as well since the user interactions were not present for the majority of the books.\n",
        "*   Understanding the metric for evaluation was a challenge as well\n",
        "\n",
        "\n",
        "*   Since the data consisted of text data, data cleaning was a major challenge in features like Location etc..\n",
        "*   Decision making on missing value imputations and outlier treatment was quite challenging as well.\n",
        "\n",
        "\n"
      ],
      "metadata": {
        "id": "sPbQ_gUOoSpK"
      }
    },
    {
      "cell_type": "code",
      "source": [],
      "metadata": {
        "id": "E_rMnCBfoM_E"
      },
      "execution_count": null,
      "outputs": []
    }
  ]
}